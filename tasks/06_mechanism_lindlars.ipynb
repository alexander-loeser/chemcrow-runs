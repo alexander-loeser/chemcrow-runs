{
 "cells": [
  {
   "cell_type": "code",
   "execution_count": 1,
   "id": "bd42b405-5c13-4b20-98e1-cbd77fb3e669",
   "metadata": {},
   "outputs": [],
   "source": [
    "import os\n",
    "from dotenv import load_dotenv\n",
    "from chemcrow.agents import ChemTools, ChemCrow\n",
    "from chemcrow.evaluation import NoToolsAgent, Evaluator\n",
    "\n",
    "load_dotenv()\n",
    "chemtools = ChemTools()"
   ]
  },
  {
   "cell_type": "code",
   "execution_count": 2,
   "id": "c95859ca-ea28-4191-86f4-ccc6c7cd5ad1",
   "metadata": {},
   "outputs": [
    {
     "name": "stdout",
     "output_type": "stream",
     "text": [
      "\n",
      "Predict the product of a mixture of 1-Chloro-4-ethynylbenzene a Lindlars catalyst (use CC(=O)[O-].CC(=O)[O-].[Pd].[Pb+2]).\n",
      "Predict the same reaction but replacing the catalyst with \"[Pd]\".\n",
      "Finally, compare the two products and explain the reaction mechanisms. \n",
      "\n"
     ]
    }
   ],
   "source": [
    "task = \"\"\"\n",
    "Predict the product of a mixture of 1-Chloro-4-ethynylbenzene a Lindlars catalyst (use CC(=O)[O-].CC(=O)[O-].[Pd].[Pb+2]).\n",
    "Predict the same reaction but replacing the catalyst with \"[Pd]\".\n",
    "Finally, compare the two products and explain the reaction mechanisms. \n",
    "\"\"\"\n",
    "print(task)"
   ]
  },
  {
   "cell_type": "code",
   "execution_count": 3,
   "id": "37c939ea-ee9a-47c6-91f8-91f3a0edc94b",
   "metadata": {},
   "outputs": [
    {
     "name": "stdout",
     "output_type": "stream",
     "text": [
      "\n",
      "\n",
      "\u001b[1m> Entering new RetryAgentExecutor chain...\u001b[0m\n",
      "\u001b[32;1m\u001b[1;3mFirst, I need to find the SMILES representation of 1-Chloro-4-ethynylbenzene.\n",
      "Action: Name2SMILES\n",
      "Action Input: 1-Chloro-4-ethynylbenzene\u001b[0m\n",
      "Observation: \u001b[36;1m\u001b[1;3mC#Cc1ccc(Cl)cc1\u001b[0m\n",
      "Thought:\u001b[32;1m\u001b[1;3mNow, I will predict the product of the reaction between 1-Chloro-4-ethynylbenzene and Lindlar's catalyst.\n",
      "Action: RXNPredict\n",
      "Action Input: C#Cc1ccc(Cl)cc1.CC(=O)[O-].CC(=O)[O-].[Pd].[Pb+2]\u001b[0m\n",
      "Observation: \u001b[38;5;200m\u001b[1;3mC=Cc1ccc(Cl)cc1\u001b[0m\n",
      "Thought:\u001b[32;1m\u001b[1;3mNow, I will predict the product of the reaction between 1-Chloro-4-ethynylbenzene and the catalyst \"[Pd]\".\n",
      "Action: RXNPredict\n",
      "Action Input: C#Cc1ccc(Cl)cc1.[Pd]\u001b[0m\n",
      "Observation: \u001b[38;5;200m\u001b[1;3mCCc1ccc(Cl)cc1\u001b[0m\n",
      "Thought:\u001b[32;1m\u001b[1;3mNow, I will compare the two products and explain the reaction mechanisms.\n",
      "Action: WebSearch\n",
      "Action Input: Compare products of 1-Chloro-4-ethynylbenzene with Lindlar's catalyst and Pd catalyst and explain reaction mechanisms\u001b[0m\n",
      "Observation: \u001b[33;1m\u001b[1;3mLindlar's Catalyst transforms an alkyne to a cis-alkene because the hydrogenation reaction is occurring on the surface of the metal. Both ...\u001b[0m\n",
      "Thought:\u001b[32;1m\u001b[1;3mFinal Answer: The product of the reaction between 1-Chloro-4-ethynylbenzene and Lindlar's catalyst is a cis-alkene (C=Cc1ccc(Cl)cc1). The product of the reaction between 1-Chloro-4-ethynylbenzene and the catalyst \"[Pd]\" is an alkane (CCc1ccc(Cl)cc1). Lindlar's catalyst transforms an alkyne to a cis-alkene because the hydrogenation reaction occurs on the surface of the metal, leading to a partial reduction. In contrast, the \"[Pd]\" catalyst fully reduces the alkyne to an alkane.\u001b[0m\n",
      "\n",
      "\u001b[1m> Finished chain.\u001b[0m\n",
      "\u001b[1;30;43mChemCrow output: The product of the reaction between 1-Chloro-4-ethynylbenzene and Lindlar's catalyst is a cis-alkene, with the SMILES representation C=Cc1ccc(Cl)cc1. On the other hand, the product of the reaction between 1-Chloro-4-ethynylbenzene and the catalyst \"[Pd]\" is an alkane, with the SMILES representation CCc1ccc(Cl)cc1.\n",
      "\n",
      "The difference in the products can be explained by the reaction mechanisms involved. Lindlar's catalyst transforms an alkyne to a cis-alkene because the hydrogenation reaction occurs on the surface of the metal, leading to a partial reduction. This results in the formation of a cis-alkene, where the double bond is retained.\n",
      "\n",
      "In contrast, the \"[Pd]\" catalyst fully reduces the alkyne to an alkane. This means that the triple bond in the alkyne is completely broken, and the resulting product is an alkane with a single bond between the carbon atoms.\n",
      "\n",
      "In summary, the reaction between 1-Chloro-4-ethynylbenzene and Lindlar's catalyst produces a cis-alkene, while the reaction with the \"[Pd]\" catalyst produces an alkane. The difference in products is due to the different reaction mechanisms, with Lindlar's catalyst leading to partial reduction and the \"[Pd]\" catalyst leading to full reduction.\n"
     ]
    }
   ],
   "source": [
    "# First, answer with tools\n",
    "\n",
    "mrkl = ChemCrow(\n",
    "    chemtools.all_tools,\n",
    "    model=\"gpt-4\",\n",
    "    temp=0.1,\n",
    ")\n",
    "\n",
    "result_tools = mrkl.run(task)"
   ]
  },
  {
   "cell_type": "code",
   "execution_count": 8,
   "id": "d82cd39a-8b6b-41c9-8827-e6c91b4acbc0",
   "metadata": {},
   "outputs": [
    {
     "name": "stdout",
     "output_type": "stream",
     "text": [
      "When 1-Chloro-4-ethynylbenzene reacts with a Lindlar's catalyst (CC(=O)[O-].CC(=O)[O-].[Pd].[Pb+2]), the product formed is 1-chloro-4-(cis-ethenyl)benzene. Lindlar's catalyst is a heterogeneous catalyst that consists of palladium deposited on calcium carbonate and is poisoned with lead acetate and quinoline. This catalyst is used for the selective hydrogenation of alkynes to cis-alkenes (Z-alkenes).\n",
      "\n",
      "If we replace the Lindlar's catalyst with \"[Pd]\", which represents a simple palladium catalyst, the reaction will proceed to a full hydrogenation of the alkyne, resulting in the formation of 1-chloro-4-ethylbenzene.\n",
      "\n",
      "Comparing the two products, we can see that the Lindlar's catalyst selectively hydrogenates the alkyne to a cis-alkene, while the palladium catalyst fully hydrogenates the alkyne to an alkane. The reaction mechanism for both processes involves the coordination of the alkyne to the metal center of the catalyst, followed by the addition of hydrogen atoms to the carbon atoms of the alkyne. In the case of Lindlar's catalyst, the poisoning agents (lead acetate and quinoline) prevent the reaction from proceeding further to the alkane stage, thus selectively producing the cis-alkene.\n"
     ]
    }
   ],
   "source": [
    "# Now answer without tools\n",
    "\n",
    "notools = NoToolsAgent(model=\"gpt-4\", temp=0.1)\n",
    "result_notools = notools.run(task)\n",
    "print(result_notools)"
   ]
  },
  {
   "cell_type": "code",
   "execution_count": 5,
   "id": "bb2820ed",
   "metadata": {},
   "outputs": [
    {
     "name": "stdout",
     "output_type": "stream",
     "text": [
      "Student 1's Grade: 9\n",
      "Strengths: Clear explanation of the products formed in both reactions, good understanding of the reaction mechanisms, and concise summary.\n",
      "Weaknesses: Minor inaccuracies in the SMILES representation of the products.\n",
      "Grade Justification: The student provided a clear and accurate explanation of the reaction mechanisms and products, but there were minor inaccuracies in the SMILES representation of the products.\n",
      "\n",
      "Student 2's Grade: 10\n",
      "Strengths: Detailed explanation of the products formed in both reactions, excellent understanding of the reaction mechanisms, and clear comparison of the two products.\n",
      "Weaknesses: None.\n",
      "Grade Justification: The student provided a comprehensive and accurate explanation of the reaction mechanisms, products, and comparison of the two reactions. No weaknesses were found in the answer.\n",
      "\n",
      "Feedback for Student 1: Your explanation of the reaction mechanisms and products is clear and accurate. However, there are minor inaccuracies in the SMILES representation of the products. To achieve a perfect score, double-check your SMILES representation and ensure it accurately reflects the products formed in the reactions.\n"
     ]
    }
   ],
   "source": [
    "# Now get teacher's eval\n",
    "\n",
    "teacher = Evaluator(model=\"gpt-4\", temp=0.1)\n",
    "\n",
    "assess = teacher.run(task, result_tools, result_notools)\n",
    "print(assess)"
   ]
  },
  {
   "cell_type": "code",
   "execution_count": null,
   "id": "94de4a40-dec6-43fb-babc-9605cd6be22c",
   "metadata": {},
   "outputs": [],
   "source": []
  }
 ],
 "metadata": {
  "kernelspec": {
   "display_name": "linuslingo",
   "language": "python",
   "name": "linuslingo"
  },
  "language_info": {
   "codemirror_mode": {
    "name": "ipython",
    "version": 3
   },
   "file_extension": ".py",
   "mimetype": "text/x-python",
   "name": "python",
   "nbconvert_exporter": "python",
   "pygments_lexer": "ipython3",
   "version": "3.8.16"
  }
 },
 "nbformat": 4,
 "nbformat_minor": 5
}
