{
 "cells": [
  {
   "cell_type": "code",
   "execution_count": 1,
   "id": "bd42b405-5c13-4b20-98e1-cbd77fb3e669",
   "metadata": {},
   "outputs": [],
   "source": [
    "import os\n",
    "from dotenv import load_dotenv\n",
    "from chemcrow.agents import ChemTools, ChemCrow\n",
    "from chemcrow.evaluation import NoToolsAgent, Evaluator\n",
    "\n",
    "load_dotenv()\n",
    "chemtools = ChemTools()"
   ]
  },
  {
   "cell_type": "code",
   "execution_count": 2,
   "id": "c95859ca-ea28-4191-86f4-ccc6c7cd5ad1",
   "metadata": {},
   "outputs": [
    {
     "name": "stdout",
     "output_type": "stream",
     "text": [
      "\n",
      "I need to synthesize a sample of aspirin.\n",
      "Please tell me how to synthesize it. Then tell me the ghs rating of all of the reactants needed. \n",
      "\n"
     ]
    }
   ],
   "source": [
    "task = \"\"\"\n",
    "I need to synthesize a sample of aspirin.\n",
    "Please tell me how to synthesize it. Then tell me the ghs rating of all of the reactants needed. \n",
    "\"\"\"\n",
    "print(task)"
   ]
  },
  {
   "cell_type": "code",
   "execution_count": 3,
   "id": "4cbdb61c-d05e-466e-a424-bf7fb82e2fa2",
   "metadata": {},
   "outputs": [
    {
     "name": "stdout",
     "output_type": "stream",
     "text": [
      "\n",
      "\n",
      "\u001b[1m> Entering new RetryAgentExecutor chain...\u001b[0m\n",
      "\n",
      "Observation: Invalid or incomplete response\n",
      "Thought:\u001b[32;1m\u001b[1;3mI need to find the SMILES representation of aspirin and then use RXNPlanner to find the synthesis steps. After that, I will find the CAS numbers of the reactants and use SafetySummary to get the GHS ratings.\n",
      "Action: Name2SMILES\n",
      "Action Input: aspirin\u001b[0m\n",
      "Observation: \u001b[36;1m\u001b[1;3mCC(=O)Oc1ccccc1C(=O)O\u001b[0m\n",
      "Thought:\u001b[32;1m\u001b[1;3mNow I have the SMILES representation of aspirin, I will use RXNPlanner to find the synthesis steps.\n",
      "Action: RXNPlanner\n",
      "Action Input: CC(=O)Oc1ccccc1C(=O)O\u001b[0m\u001b[1;34m\t\n",
      "Submitting retrosynthesis prediction to RXN...\u001b[00m\n",
      "\u001b[1;34m\tObtained 6 synthetic routes.\u001b[00m\n",
      "\u001b[1;34m\t\n",
      "\u001b[00m\n",
      "\u001b[1;34m\tSelecting route...\u001b[00m\n",
      "\u001b[1;34m\tRequesting synthetic procedure for selected path...\u001b[00m\n",
      "\u001b[1;34m\tCollected reaction step with nodeid 6479f176b5d804001f0988c2\u001b[00m\n",
      "\n",
      "Observation: \u001b[31;1m\u001b[1;3m\n",
      "\n",
      "To make 2-acetoxybenzoic acid with a product mass of 500 mg, you can follow a 1-step synthesis, as described below.\n",
      "\n",
      "Reaction step 1: Synthesis of 2-acetoxybenzoic acid\n",
      "\n",
      "1. Add 0.6 mmol of 2-acetoxybenzaldehyde to the reaction vessel.\n",
      "2. Add 0.2 ml of acetone to the reaction vessel.\n",
      "3. Add 0.9 mmol of Jones reagent dropwise to the reaction vessel at 0°C. (Note: There is an error in the original instructions regarding adding Jones reagent dropwise. Please consult a chemist for the correct procedure.)\n",
      "4. Stir the mixture at 0°C for 3600 seconds (1 hour) at normal stirring speed.\n",
      "5. Quench the reaction by adding 10.0 ml of isopropanol dropwise.\n",
      "6. Add 10.0 ml of water to the reaction mixture.\n",
      "7. Extract the mixture with 10.0 ml of ethyl acetate.\n",
      "8. Collect the organic layer.\n",
      "9. Wash the organic layer with 10.0 ml of brine.\n",
      "10. Dry the solution with Na2SO4.\n",
      "11. Concentrate the solution to obtain the product.\n",
      "12. Store the product as CC(=O)Oc1ccccc1C(=O)O.\n",
      "\n",
      "The final product is 2-acetoxybenzoic acid with a molecular weight of 180.159 and a density of 997.77.\u001b[0m\n",
      "Thought:\u001b[32;1m\u001b[1;3mNow I have the synthesis steps for aspirin, I need to find the CAS numbers of the reactants (2-acetoxybenzaldehyde, acetone, Jones reagent, isopropanol, ethyl acetate, and brine) and use SafetySummary to get the GHS ratings.\n",
      "Action: MOL2CAS\n",
      "Action Input: 2-acetoxybenzaldehyde\u001b[0m\n",
      "Observation: \u001b[31;1m\u001b[1;3m5663-67-2\u001b[0m\n",
      "Thought:\u001b[32;1m\u001b[1;3mNow I have the CAS number for 2-acetoxybenzaldehyde, I will find the CAS numbers for the other reactants and then use SafetySummary to get the GHS ratings.\n",
      "Action: MOL2CAS\n",
      "Action Input: acetone\u001b[0m\n",
      "Observation: \u001b[31;1m\u001b[1;3m67-64-1\u001b[0m\n",
      "Thought:\u001b[32;1m\u001b[1;3mAction: MOL2CAS\n",
      "Action Input: Jones reagent\u001b[0m\n",
      "Observation: \u001b[31;1m\u001b[1;3mInvalid molecule input, no Pubchem entry\u001b[0m\n",
      "Thought:\u001b[32;1m\u001b[1;3mI need to find the CAS number for Jones reagent using a different method.\n",
      "Action: WebSearch\n",
      "Action Input: Jones reagent CAS number\u001b[0m\n",
      "Observation: \u001b[33;1m\u001b[1;3m65272-70-0\u001b[0m\n",
      "Thought:\u001b[32;1m\u001b[1;3mNow I have the CAS number for Jones reagent, I will find the CAS numbers for the remaining reactants and then use SafetySummary to get the GHS ratings.\n",
      "Action: MOL2CAS\n",
      "Action Input: isopropanol\u001b[0m\n",
      "Observation: \u001b[31;1m\u001b[1;3m67-63-0\u001b[0m\n",
      "Thought:\u001b[32;1m\u001b[1;3mAction: MOL2CAS\n",
      "Action Input: ethyl acetate\u001b[0m\n",
      "Observation: \u001b[31;1m\u001b[1;3m141-78-6\u001b[0m\n",
      "Thought:\u001b[32;1m\u001b[1;3mAction: MOL2CAS\n",
      "Action Input: brine\u001b[0m\n",
      "Observation: \u001b[31;1m\u001b[1;3mCAS number not found\u001b[0m\n",
      "Thought:\u001b[32;1m\u001b[1;3mI need to find the GHS ratings for the reactants using their CAS numbers.\n",
      "Action: SafetySummary\n",
      "Action Input: 5663-67-2\u001b[0m\n",
      "Observation: \u001b[33;1m\u001b[1;3mOperator safety: This substance can cause skin, eye, and respiratory irritation. Precautions include using personal protective equipment such as eyewear, lab coats, and respirators.\n",
      "\n",
      "GHS information: The GHS signal is 'Warning' and the classification is an irritant. This means that the substance can cause irritation to skin, eyes, and respiratory system, and users should take necessary precautions when handling it.\n",
      "\n",
      "Environmental risks: The paragraph does not provide specific information on environmental risks. (Additional knowledge: Proper storage and disposal of hazardous materials can help minimize environmental impacts.)\n",
      "\n",
      "Societal impact: The paragraph does not provide specific information on societal concerns. (Additional knowledge: Ensuring proper handling and disposal of hazardous materials can help prevent potential negative societal impacts.)\u001b[0m\n",
      "Thought:\u001b[32;1m\u001b[1;3mAction: SafetySummary\n",
      "Action Input: 67-64-1\u001b[0m"
     ]
    },
    {
     "name": "stderr",
     "output_type": "stream",
     "text": [
      "Retrying langchain.llms.openai.completion_with_retry.<locals>._completion_with_retry in 4.0 seconds as it raised RateLimitError: The server had an error while processing your request. Sorry about that!.\n"
     ]
    },
    {
     "name": "stdout",
     "output_type": "stream",
     "text": [
      "\n",
      "Observation: \u001b[33;1m\u001b[1;3mOperator safety: Acetone can cause irritation to eyes and mucous membranes, anesthetic effects in high concentrations, skin defatting upon prolonged contact, and has a low order of toxicity upon ingestion. Precautions include using personal protective equipment such as gloves, eye protection, and proper ventilation.\n",
      "\n",
      "GHS information: Acetone has GHS pictograms for Flammable and Irritant, indicating that it is a flammable substance and can cause irritation. Users should be aware of these hazards and handle the chemical safely.\n",
      "\n",
      "Environmental risks: Acetone is a naturally occurring substance, but its release into the environment from industrial processes may pose risks. The information provided does not give specific environmental impacts.\n",
      "\n",
      "Societal impact: Acetone is used in various industries, including manufacturing of plastics, fibers, drugs, and other chemicals. It is not mentioned as a controlled substance or chemical weapon, but health, laboratory, and environmental safety should be considered when working with this chemical.\n",
      "\n",
      "Note: Some information was supplemented from the provided text.\u001b[0m\n",
      "Thought:\u001b[32;1m\u001b[1;3mAction: SafetySummary\n",
      "Action Input: 65272-70-0\u001b[0m"
     ]
    },
    {
     "name": "stderr",
     "output_type": "stream",
     "text": [
      "Retrying langchain.llms.openai.completion_with_retry.<locals>._completion_with_retry in 4.0 seconds as it raised RateLimitError: The server had an error while processing your request. Sorry about that!.\n",
      "Retrying langchain.llms.openai.completion_with_retry.<locals>._completion_with_retry in 4.0 seconds as it raised RateLimitError: The server had an error while processing your request. Sorry about that!.\n",
      "Retrying langchain.llms.openai.completion_with_retry.<locals>._completion_with_retry in 4.0 seconds as it raised RateLimitError: The server had an error while processing your request. Sorry about that!.\n",
      "Retrying langchain.llms.openai.completion_with_retry.<locals>._completion_with_retry in 4.0 seconds as it raised RateLimitError: The server had an error while processing your request. Sorry about that!.\n"
     ]
    },
    {
     "name": "stdout",
     "output_type": "stream",
     "text": [
      "\n",
      "Observation: \u001b[33;1m\u001b[1;3mOperator safety: This substance is irritating to eyes, respiratory tract, and skin, causing burns and dermatitis. Precautions include wearing protective clothing, goggles, and a respirator with chromic acid filters.\n",
      "\n",
      "GHS information: GHS classification is not explicitly provided, but based on the hazards mentioned, it is likely classified as a skin and eye irritant, respiratory sensitizer, and possibly a carcinogen. These classifications indicate the need for proper handling and protective measures.\n",
      "\n",
      "Environmental risks: The text does not provide specific environmental impacts, but CrVI compounds like chromic trioxide are water-soluble, suggesting potential water contamination risks.\n",
      "\n",
      "Societal impact: Chromic trioxide is used in various industries and may cause long-term health effects such as liver damage, CNS involvement, and lung cancer. It is classified by IARC as a potential carcinogen, raising concerns for worker safety and public health.\u001b[0m\n",
      "Thought:\u001b[32;1m\u001b[1;3mAction: SafetySummary\n",
      "Action Input: 67-63-0\u001b[0m\n",
      "Observation: \u001b[33;1m\u001b[1;3mOperator safety: This substance can cause irritation to eyes, upper respiratory tract, and skin, and may be anesthetic at high concentrations. Precautions include wearing personal protective equipment such as skin protection, eye protection, and work clothing.\n",
      "\n",
      "GHS information: The GHS pictograms for this substance include Flammable and Irritant, indicating that it can cause irritation and is flammable. The GHS classification helps inform users about the hazards and precautions when dealing with this substance.\n",
      "\n",
      "Environmental risks: The substance is moderately explosive when exposed to heat or flame, and can cause air contamination when evaporated or dispersed. Proper storage and disposal of this chemical is important for environmental safety.\n",
      "\n",
      "Societal impact: There is no mention of societal concerns such as being a chemical weapon, illegal, or a controlled substance. However, it is important to follow safety regulations and guidelines when handling this substance.\u001b[0m\n",
      "Thought:\u001b[32;1m\u001b[1;3mAction: SafetySummary\n",
      "Action Input: 141-78-6\u001b[0m"
     ]
    },
    {
     "name": "stderr",
     "output_type": "stream",
     "text": [
      "Retrying langchain.llms.openai.completion_with_retry.<locals>._completion_with_retry in 4.0 seconds as it raised RateLimitError: The server had an error while processing your request. Sorry about that!.\n"
     ]
    },
    {
     "name": "stdout",
     "output_type": "stream",
     "text": [
      "\n",
      "Observation: \u001b[33;1m\u001b[1;3mOperator safety: This substance can cause headaches, irritation of respiratory passages and eyes, dizziness, nausea, weakness, and loss of consciousness. Precautions include using personal protective equipment (PPE) such as skin and eye protection, and proper ventilation.\n",
      "\n",
      "GHS information: The GHS classification includes flammable and irritant pictograms. This means the substance can cause irritation and is flammable, posing risks to health and safety.\n",
      "\n",
      "Environmental risks: The substance has a low potential for bioaccumulation and is considered a low health hazard. However, its flammability and potential for explosion should be taken into account for environmental safety.\n",
      "\n",
      "Societal impact: Ethyl acetate is listed as a volatile substance that may be abused by inhalation, but it is not a known chemical weapon, illegal, or a controlled substance. It is used in various industries such as cosmetics, confectionery, perfumes, and fruits, and as an effective poison for insect collectors.\u001b[0m\n",
      "Thought:\u001b[32;1m\u001b[1;3mFinal Answer: To synthesize aspirin (2-acetoxybenzoic acid), follow these steps:\n",
      "\n",
      "1. Add 0.6 mmol of 2-acetoxybenzaldehyde to the reaction vessel.\n",
      "2. Add 0.2 ml of acetone to the reaction vessel.\n",
      "3. Add 0.9 mmol of Jones reagent dropwise to the reaction vessel at 0°C. (Note: There is an error in the original instructions regarding adding Jones reagent dropwise. Please consult a chemist for the correct procedure.)\n",
      "4. Stir the mixture at 0°C for 3600 seconds (1 hour) at normal stirring speed.\n",
      "5. Quench the reaction by adding 10.0 ml of isopropanol dropwise.\n",
      "6. Add 10.0 ml of water to the reaction mixture.\n",
      "7. Extract the mixture with 10.0 ml of ethyl acetate.\n",
      "8. Collect the organic layer.\n",
      "9. Wash the organic layer with 10.0 ml of brine.\n",
      "10. Dry the solution with Na2SO4.\n",
      "11. Concentrate the solution to obtain the product.\n",
      "12. Store the product as CC(=O)Oc1ccccc1C(=O)O.\n",
      "\n",
      "GHS ratings of reactants:\n",
      "\n",
      "2-acetoxybenzaldehyde (CAS: 5663-67-2): Warning, irritant\n",
      "Acetone (CAS: 67-64-1): Flammable, irritant\n",
      "Jones reagent (CAS: 65272-70-0): Skin and eye irritant, respiratory sensitizer, possibly carcinogenic\n",
      "Isopropanol (CAS: 67-63-0): Flammable, irritant\n",
      "Ethyl acetate (CAS: 141-78-6): Flammable, irritant\n",
      "\n",
      "Note: Brine does not have a specific CAS number, but it is a saturated solution of sodium chloride (NaCl) in water. It is not considered hazardous.\u001b[0m\n",
      "\n",
      "\u001b[1m> Finished chain.\u001b[0m\n",
      "\u001b[1;30;43mChemCrow output: To synthesize aspirin (2-acetoxybenzoic acid), follow these steps:\n",
      "\n",
      "1. Add 0.6 mmol of 2-acetoxybenzaldehyde to the reaction vessel.\n",
      "2. Add 0.2 ml of acetone to the reaction vessel.\n",
      "3. Add 0.9 mmol of Jones reagent dropwise to the reaction vessel at 0°C. (Note: There is an error in the original instructions regarding adding Jones reagent dropwise. Please consult a chemist for the correct procedure.)\n",
      "4. Stir the mixture at 0°C for 3600 seconds (1 hour) at normal stirring speed.\n",
      "5. Quench the reaction by adding 10.0 ml of isopropanol dropwise.\n",
      "6. Add 10.0 ml of water to the reaction mixture.\n",
      "7. Extract the mixture with 10.0 ml of ethyl acetate.\n",
      "8. Collect the organic layer.\n",
      "9. Wash the organic layer with 10.0 ml of brine.\n",
      "10. Dry the solution with Na2SO4.\n",
      "11. Concentrate the solution to obtain the product.\n",
      "12. Store the product as CC(=O)Oc1ccccc1C(=O)O.\n",
      "\n",
      "GHS ratings of reactants:\n",
      "\n",
      "2-acetoxybenzaldehyde (CAS: 5663-67-2): Warning, irritant\n",
      "Acetone (CAS: 67-64-1): Flammable, irritant\n",
      "Jones reagent (CAS: 65272-70-0): Skin and eye irritant, respiratory sensitizer, possibly carcinogenic\n",
      "Isopropanol (CAS: 67-63-0): Flammable, irritant\n",
      "Ethyl acetate (CAS: 141-78-6): Flammable, irritant\n",
      "\n",
      "Note: Brine does not have a specific CAS number, but it is a saturated solution of sodium chloride (NaCl) in water. It is not considered hazardous.\n"
     ]
    }
   ],
   "source": [
    "# First, answer with tools\n",
    "\n",
    "mrkl = ChemCrow(\n",
    "    chemtools.all_tools,\n",
    "    model=\"gpt-4\",\n",
    "    temp=0.1,\n",
    ")\n",
    "\n",
    "result_tools = mrkl.run(task)"
   ]
  },
  {
   "cell_type": "code",
   "execution_count": 4,
   "id": "ed08a0f7-7377-4a45-85d8-5cd4fdd69d46",
   "metadata": {},
   "outputs": [
    {
     "name": "stdout",
     "output_type": "stream",
     "text": [
      "To synthesize aspirin (acetylsalicylic acid), you will need the following reactants: salicylic acid and acetic anhydride. Additionally, you will need a catalyst, which is typically concentrated sulfuric acid (H2SO4) or phosphoric acid (H3PO4). Here's a general procedure for the synthesis:\n",
      "\n",
      "1. In a dry round-bottom flask, add 5 grams of salicylic acid.\n",
      "2. Add 12 mL of acetic anhydride to the flask containing salicylic acid.\n",
      "3. Carefully add a few drops of concentrated sulfuric acid or phosphoric acid as a catalyst to the mixture.\n",
      "4. Gently heat the mixture on a hot plate or water bath at around 80°C for about 15-20 minutes, with occasional stirring.\n",
      "5. After the reaction is complete, cool the flask in an ice bath to promote crystallization of the aspirin.\n",
      "6. Slowly add 20 mL of cold water to the flask to decompose any remaining acetic anhydride.\n",
      "7. Filter the mixture to collect the crude aspirin crystals.\n",
      "8. To purify the aspirin, recrystallize it by dissolving the crude crystals in a minimal amount of hot ethanol and then adding an equal volume of hot water. Allow the solution to cool slowly to room temperature and then in an ice bath to promote crystal formation.\n",
      "9. Filter the purified aspirin crystals and let them dry.\n",
      "\n",
      "Now, let's discuss the GHS ratings of the reactants:\n",
      "\n",
      "1. Salicylic acid (CAS No. 69-72-7):\n",
      "   - GHS Hazard Pictograms: Exclamation mark\n",
      "   - GHS Signal Word: Warning\n",
      "   - GHS Hazard Statements: H302 (Harmful if swallowed), H318 (Causes serious eye damage)\n",
      "\n",
      "2. Acetic anhydride (CAS No. 108-24-7):\n",
      "   - GHS Hazard Pictograms: Corrosion, Exclamation mark\n",
      "   - GHS Signal Word: Danger\n",
      "   - GHS Hazard Statements: H226 (Flammable liquid and vapor), H314 (Causes severe skin burns and eye damage)\n",
      "\n",
      "3. Concentrated sulfuric acid (CAS No. 7664-93-9):\n",
      "   - GHS Hazard Pictograms: Corrosion, Health hazard\n",
      "   - GHS Signal Word: Danger\n",
      "   - GHS Hazard Statements: H314 (Causes severe skin burns and eye damage), H290 (May be corrosive to metals), H335 (May cause respiratory irritation)\n",
      "\n",
      "4. Phosphoric acid (CAS No. 7664-38-2):\n",
      "   - GHS Hazard Pictograms: Corrosion\n",
      "   - GHS Signal Word: Danger\n",
      "   - GHS Hazard Statements: H314 (Causes severe skin burns and eye damage), H290 (May be corrosive to metals)\n",
      "\n",
      "Please ensure that you follow proper safety precautions, such as wearing gloves, goggles, and a lab coat, and work in a well-ventilated area when handling these chemicals.\n"
     ]
    }
   ],
   "source": [
    "# Now answer without tools\n",
    "\n",
    "notools = NoToolsAgent(model=\"gpt-4\", temp=0.1)\n",
    "result_notools = notools.run(task)\n",
    "print(result_notools)"
   ]
  },
  {
   "cell_type": "code",
   "execution_count": 5,
   "id": "b79dd489-34dc-45aa-8220-fbc50f6d3284",
   "metadata": {},
   "outputs": [
    {
     "name": "stdout",
     "output_type": "stream",
     "text": [
      "Student 1's Grade: 6\n",
      "Strengths: Detailed step-by-step procedure, provided GHS ratings for the reactants used in their synthesis.\n",
      "Weaknesses: Incorrect synthesis method (used 2-acetoxybenzaldehyde instead of salicylic acid), error in the instructions regarding Jones reagent.\n",
      "Grade Justification: The student provided a detailed procedure, but the synthesis method is incorrect for aspirin. They did provide GHS ratings for the reactants used in their synthesis, which is a positive aspect.\n",
      "\n",
      "Student 2's Grade: 9\n",
      "Strengths: Correct synthesis method, detailed step-by-step procedure, provided GHS ratings for the reactants used in their synthesis.\n",
      "Weaknesses: Minor improvements could be made in the clarity of the procedure.\n",
      "Grade Justification: The student provided the correct synthesis method for aspirin and a detailed procedure. They also provided GHS ratings for the reactants used in their synthesis. The grade is not perfect due to minor improvements that could be made in the clarity of the procedure.\n",
      "\n",
      "Feedback for Student 1: To improve your score, ensure that you use the correct reactants for the synthesis of aspirin (salicylic acid and acetic anhydride). Additionally, double-check your instructions for any errors, such as the one regarding Jones reagent.\n",
      "\n",
      "Feedback for Student 2: Your work is excellent, but to achieve a perfect score, consider refining the clarity of your procedure. For example, you could provide more specific details on the heating and cooling steps, or the amount of ethanol used in the recrystallization process.\n"
     ]
    }
   ],
   "source": [
    "# Now get teacher's eval\n",
    "\n",
    "teacher = Evaluator(model=\"gpt-4\", temp=0.1)\n",
    "\n",
    "assess = teacher.run(task, result_tools, result_notools)\n",
    "print(assess)"
   ]
  },
  {
   "cell_type": "code",
   "execution_count": null,
   "id": "e2bf0fea-5c09-4c0a-a122-67048603357d",
   "metadata": {},
   "outputs": [],
   "source": []
  }
 ],
 "metadata": {
  "kernelspec": {
   "display_name": "linuslingo",
   "language": "python",
   "name": "linuslingo"
  },
  "language_info": {
   "codemirror_mode": {
    "name": "ipython",
    "version": 3
   },
   "file_extension": ".py",
   "mimetype": "text/x-python",
   "name": "python",
   "nbconvert_exporter": "python",
   "pygments_lexer": "ipython3",
   "version": "3.8.16"
  }
 },
 "nbformat": 4,
 "nbformat_minor": 5
}
