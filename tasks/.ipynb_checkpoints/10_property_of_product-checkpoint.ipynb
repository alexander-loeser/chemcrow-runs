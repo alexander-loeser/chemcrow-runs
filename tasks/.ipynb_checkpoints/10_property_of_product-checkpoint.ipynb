{
 "cells": [
  {
   "cell_type": "code",
   "execution_count": 1,
   "id": "bd42b405-5c13-4b20-98e1-cbd77fb3e669",
   "metadata": {},
   "outputs": [],
   "source": [
    "import os\n",
    "from dotenv import load_dotenv\n",
    "from chemcrow.agents import ChemTools, ChemCrow\n",
    "from chemcrow.evaluation import NoToolsAgent, Evaluator\n",
    "\n",
    "load_dotenv()\n",
    "chemtools = ChemTools()"
   ]
  },
  {
   "cell_type": "code",
   "execution_count": 2,
   "id": "c95859ca-ea28-4191-86f4-ccc6c7cd5ad1",
   "metadata": {},
   "outputs": [
    {
     "name": "stdout",
     "output_type": "stream",
     "text": [
      "\n",
      "Tell me what the boiling point is of the reaction product between isoamyl acetate and ethanol.\n",
      "To do this, predict the product of this reaction, and find its boiling point in celsius using cas number.\n",
      "\n"
     ]
    }
   ],
   "source": [
    "task = \"\"\"\n",
    "Tell me what the boiling point is of the reaction product between isoamyl acetate and ethanol.\n",
    "To do this, predict the product of this reaction, and find its boiling point in celsius using cas number.\n",
    "\"\"\"\n",
    "print(task)"
   ]
  },
  {
   "cell_type": "code",
   "execution_count": 3,
   "id": "37c939ea-ee9a-47c6-91f8-91f3a0edc94b",
   "metadata": {},
   "outputs": [
    {
     "name": "stdout",
     "output_type": "stream",
     "text": [
      "\n",
      "\n",
      "\u001b[1m> Entering new RetryAgentExecutor chain...\u001b[0m\n",
      "\n",
      "Observation: Invalid or incomplete response\n",
      "Thought:\u001b[32;1m\u001b[1;3mFirst, I need to find the SMILES representation of isoamyl acetate and ethanol.\n",
      "Action: Name2SMILES\n",
      "Action Input: isoamyl acetate\u001b[0m\n",
      "Observation: \u001b[36;1m\u001b[1;3mCC(=O)OCCC(C)C\u001b[0m\n",
      "Thought:\u001b[32;1m\u001b[1;3mAction: Name2SMILES\n",
      "Action Input: ethanol\u001b[0m\n",
      "Observation: \u001b[36;1m\u001b[1;3mCCO\u001b[0m\n",
      "Thought:\u001b[32;1m\u001b[1;3mNow that I have the SMILES representations of isoamyl acetate and ethanol, I can predict the product of their reaction.\n",
      "Action: RXNPredict\n",
      "Action Input: CC(=O)OCCC(C)C.CCO\u001b[0m\n",
      "Observation: \u001b[38;5;200m\u001b[1;3mCC(C)CCO\u001b[0m\n",
      "Thought:\u001b[32;1m\u001b[1;3mNow that I have the predicted product, I need to find its CAS number to look up its boiling point.\n",
      "Action: MOL2CAS\n",
      "Action Input: CC(C)CCO\u001b[0m\n",
      "Observation: \u001b[31;1m\u001b[1;3m123-51-3\u001b[0m\n",
      "Thought:\u001b[32;1m\u001b[1;3mNow that I have the CAS number, I can search for the boiling point of the product.\n",
      "Action: WebSearch\n",
      "Action Input: boiling point of CAS 123-51-3 in celsius\u001b[0m\n",
      "Observation: \u001b[33;1m\u001b[1;3m130 °C (lit.)\u001b[0m\n",
      "Thought:\u001b[32;1m\u001b[1;3mFinal Answer: The boiling point of the reaction product between isoamyl acetate and ethanol is 130 °C.\u001b[0m\n",
      "\n",
      "\u001b[1m> Finished chain.\u001b[0m\n",
      "\u001b[1;30;43mChemCrow output: To determine the boiling point of the reaction product between isoamyl acetate and ethanol, we first need to find the SMILES representation of both compounds. The SMILES representation of isoamyl acetate is CC(=O)OCCC(C)C, and for ethanol, it is CCO.\n",
      "\n",
      "With the SMILES representations, we can now predict the product of their reaction. The predicted product has the SMILES representation CC(C)CCO. To find the boiling point, we need to obtain the CAS number of this product. The CAS number for the predicted product is 123-51-3.\n",
      "\n",
      "Now that we have the CAS number, we can search for the boiling point of the product. The boiling point of the compound with CAS number 123-51-3 is found to be 130 °C (lit.).\n",
      "\n",
      "Therefore, the boiling point of the reaction product between isoamyl acetate and ethanol is 130 °C.\n"
     ]
    }
   ],
   "source": [
    "# First, answer with tools\n",
    "\n",
    "mrkl = ChemCrow(\n",
    "    chemtools.all_tools,\n",
    "    model=\"gpt-4\",\n",
    "    temp=0.1,\n",
    ")\n",
    "\n",
    "result_tools = mrkl.run(task)"
   ]
  },
  {
   "cell_type": "code",
   "execution_count": 4,
   "id": "9a5c8ba6",
   "metadata": {},
   "outputs": [
    {
     "name": "stdout",
     "output_type": "stream",
     "text": [
      "As an expert chemist, I can tell you that the reaction between isoamyl acetate and ethanol is not a typical reaction that would produce a single reaction product. Isoamyl acetate (CAS Number: 123-92-2) is an ester, and ethanol (CAS Number: 64-17-5) is an alcohol. Generally, esters and alcohols do not react with each other under normal conditions.\n",
      "\n",
      "However, if you were to use an acid catalyst, you could potentially undergo a transesterification reaction, where the alcohol group of ethanol would replace the acetate group in isoamyl acetate, forming ethyl acetate (CAS Number: 141-78-6) and isoamyl alcohol (CAS Number: 123-51-3) as products. In this case, the boiling points of the products would be:\n",
      "\n",
      "- Ethyl acetate: 77.1°C (170.8°F)\n",
      "- Isoamyl alcohol: 131.1°C (268°F)\n",
      "\n",
      "Please note that this reaction would not produce a single product with a specific boiling point, but rather a mixture of two products with their respective boiling points.\n"
     ]
    }
   ],
   "source": [
    "# Now answer without tools\n",
    "\n",
    "notools = NoToolsAgent(model=\"gpt-4\", temp=0.1)\n",
    "result_notools = notools.run(task)\n",
    "print(result_notools)"
   ]
  },
  {
   "cell_type": "code",
   "execution_count": 6,
   "id": "6c1efb45-dcd2-4c16-9ad7-9b41fc87baa2",
   "metadata": {},
   "outputs": [
    {
     "name": "stdout",
     "output_type": "stream",
     "text": [
      "Student 1's Grade: 7\n",
      "Strengths: Student 1 demonstrated a clear thought process in predicting the product of the reaction and finding its boiling point using the CAS number. They also provided the SMILES representation of the compounds and the predicted product.\n",
      "Weaknesses: Student 1 failed to recognize that the reaction between isoamyl acetate and ethanol is not a typical reaction that would produce a single product. Instead, they predicted a product that does not form under normal conditions.\n",
      "Grade Justification: Student 1's answer was well-structured and demonstrated a clear thought process, but the solution did not address the full given problem, as the reaction between isoamyl acetate and ethanol does not produce a single product.\n",
      "\n",
      "Student 2's Grade: 9\n",
      "Strengths: Student 2 correctly identified that the reaction between isoamyl acetate and ethanol is not a typical reaction that would produce a single product. They also provided the CAS numbers and boiling points of the potential products formed in a transesterification reaction.\n",
      "Weaknesses: Student 2's answer could have been more explicit in stating that a catalyst is required for the transesterification reaction to occur.\n",
      "Grade Justification: Student 2's answer demonstrated a clear understanding of the reaction between isoamyl acetate and ethanol and provided accurate boiling points for the potential products. However, they could have been more explicit about the need for a catalyst in the reaction.\n"
     ]
    }
   ],
   "source": [
    "# Now get teacher's eval\n",
    "\n",
    "teacher = Evaluator(model=\"gpt-4\", temp=0.1)\n",
    "\n",
    "assess = teacher.run(task, result_tools, result_notools)\n",
    "print(assess)"
   ]
  },
  {
   "cell_type": "code",
   "execution_count": null,
   "id": "ac0be330-32be-46b0-acca-56119fd34a22",
   "metadata": {},
   "outputs": [],
   "source": []
  }
 ],
 "metadata": {
  "kernelspec": {
   "display_name": "linuslingo",
   "language": "python",
   "name": "linuslingo"
  },
  "language_info": {
   "codemirror_mode": {
    "name": "ipython",
    "version": 3
   },
   "file_extension": ".py",
   "mimetype": "text/x-python",
   "name": "python",
   "nbconvert_exporter": "python",
   "pygments_lexer": "ipython3",
   "version": "3.8.16"
  }
 },
 "nbformat": 4,
 "nbformat_minor": 5
}
