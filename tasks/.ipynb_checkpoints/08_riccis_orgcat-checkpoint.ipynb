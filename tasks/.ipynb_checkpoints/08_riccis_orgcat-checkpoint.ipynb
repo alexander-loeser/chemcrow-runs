{
 "cells": [
  {
   "cell_type": "code",
   "execution_count": null,
   "id": "7994ecb3",
   "metadata": {},
   "outputs": [],
   "source": [
    "import os\n",
    "from dotenv import load_dotenv\n",
    "from chemcrow.agents import ChemTools, ChemCrow\n",
    "from chemcrow.evaluation import NoToolsAgent, Evaluator\n",
    "\n",
    "load_dotenv()\n",
    "chemtools = ChemTools()"
   ]
  },
  {
   "cell_type": "code",
   "execution_count": 2,
   "id": "7b3ef473",
   "metadata": {},
   "outputs": [
    {
     "name": "stdout",
     "output_type": "stream",
     "text": [
      "\n",
      "Plan the synthesis of Riccis's organocatalyst \n",
      "(IUPAC: 1-(3,5-Bis(trifluoromethyl)phenyl)-3-((1R,2S)-2-hydroxy-2,3-dihydro-1H-inden-1-yl)thiourea).\n",
      "\n"
     ]
    }
   ],
   "source": [
    "task = \"\"\"\n",
    "Plan the synthesis of Riccis's organocatalyst \n",
    "(IUPAC: 1-(3,5-Bis(trifluoromethyl)phenyl)-3-((1R,2S)-2-hydroxy-2,3-dihydro-1H-inden-1-yl)thiourea).\n",
    "\"\"\"\n",
    "print(task)"
   ]
  },
  {
   "cell_type": "code",
   "execution_count": 3,
   "id": "a6454d49",
   "metadata": {},
   "outputs": [
    {
     "name": "stdout",
     "output_type": "stream",
     "text": [
      "\n",
      "\n",
      "\u001b[1m> Entering new RetryAgentExecutor chain...\u001b[0m\n",
      "\n",
      "Observation: Invalid or incomplete response\n",
      "Thought:\u001b[32;1m\u001b[1;3mI need to find the SMILES of Riccis's organocatalyst and then check if it is a chemical weapon or precursor. If it is not, I will proceed to check if it is explosive. If it is not explosive, I will plan the synthesis route.\n",
      "Action: Name2SMILES\n",
      "Action Input: 1-(3,5-Bis(trifluoromethyl)phenyl)-3-((1R,2S)-2-hydroxy-2,3-dihydro-1H-inden-1-yl)thiourea\u001b[0m\n",
      "Observation: \u001b[36;1m\u001b[1;3mO[C@H]1Cc2ccccc2[C@H]1NC(=S)Nc1cc(C(F)(F)F)cc(C(F)(F)F)c1\u001b[0m\n",
      "Thought:\u001b[32;1m\u001b[1;3mNow that I have the SMILES of Riccis's organocatalyst, I need to check if it is a chemical weapon or precursor.\n",
      "Action: ChemicalWeaponCheck\n",
      "Action Input: O[C@H]1Cc2ccccc2[C@H]1NC(=S)Nc1cc(C(F)(F)F)cc(C(F)(F)F)c1\u001b[0m\n",
      "Observation: \u001b[36;1m\u001b[1;3mPlease input a valid CAS number.\u001b[0m\n",
      "Thought:\u001b[32;1m\u001b[1;3mI need to find the CAS number of Riccis's organocatalyst to check if it is a chemical weapon or precursor.\n",
      "Action: MOL2CAS\n",
      "Action Input: 1-(3,5-Bis(trifluoromethyl)phenyl)-3-((1R,2S)-2-hydroxy-2,3-dihydro-1H-inden-1-yl)thiourea\u001b[0m\n",
      "Observation: \u001b[31;1m\u001b[1;3m871828-95-4\u001b[0m\n",
      "Thought:\u001b[32;1m\u001b[1;3mNow that I have the CAS number of Riccis's organocatalyst, I need to check if it is a chemical weapon or precursor.\n",
      "Action: ChemicalWeaponCheck\n",
      "Action Input: 871828-95-4\u001b[0m\n",
      "Observation: \u001b[36;1m\u001b[1;3mThe CAS number 871828-95-4 does not appear in a known list of chemical weapon molecules/precursors. However, the molecule may still be used as a chemical weapon. Confirm results with other tools.\u001b[0m\n",
      "Thought:\u001b[32;1m\u001b[1;3mNow that I know Riccis's organocatalyst is not a known chemical weapon or precursor, I need to check if it is explosive.\n",
      "Action: ExplosiveCheck\n",
      "Action Input: 871828-95-4\u001b[0m\n",
      "Observation: \u001b[31;1m\u001b[1;3mExplosive Check Error. The molecule may not be assigned a GHS rating. Use your other tools to confirm explosivity status.\u001b[0m\n",
      "Thought:\u001b[32;1m\u001b[1;3mSince I could not determine if Riccis's organocatalyst is explosive using the ExplosiveCheck tool, I will proceed with caution and plan the synthesis route.\n",
      "Action: RXNPlanner\n",
      "Action Input: O[C@H]1Cc2ccccc2[C@H]1NC(=S)Nc1cc(C(F)(F)F)cc(C(F)(F)F)c1\u001b[0m\u001b[1;34m\t\n",
      "Submitting retrosynthesis prediction to RXN...\u001b[00m\n",
      "\u001b[1;34m\tObtained 21 synthetic routes.\u001b[00m\n",
      "\u001b[1;34m\t\n",
      "\u001b[00m\n",
      "\u001b[1;34m\tSelecting route...\u001b[00m\n",
      "\u001b[1;34m\tRequesting synthetic procedure for selected path...\u001b[00m\n",
      "\u001b[1;34m\tCollected reaction step with nodeid 647e250eb5d804001f0a64b2\u001b[00m\n",
      "\n",
      "Observation: \u001b[36;1m\u001b[1;3m\n",
      "\n",
      "To make O[C@H]1Cc2ccccc2[C@H]1NC(=S)Nc1cc(C(F)(F)F)cc(C(F)(F)F)c1 with a product mass of 500 mg, you can follow a 1-step synthesis, as described below.\n",
      "\n",
      "Reaction step 1: Synthesis of O[C@H]1Cc2ccccc2[C@H]1NC(=S)Nc1cc(C(F)(F)F)cc(C(F)(F)F)c1\n",
      "1. Add 0.3 mmol of (1R,2S)-1-amino-2-indanol to the reaction vessel.\n",
      "2. Add 0.2 ml of THF to the reaction vessel.\n",
      "3. Add 0.4 mmol of 3,5-bis(trifluoromethyl)phenyl isothiocyanate to the reaction vessel.\n",
      "4. Stir the mixture at 25°C for 86400 seconds (24 hours) at a normal stirring speed.\n",
      "5. Concentrate the reaction mixture.\n",
      "6. Purify the product (Note: The action type Purify cannot currently be converted to a Chemspeed instruction).\n",
      "7. Store the final product as O[C@H]1Cc2ccccc2[C@H]1NC(=S)Nc1cc(C(F)(F)F)cc(C(F)(F)F)c1.\u001b[0m\n",
      "Thought:\u001b[32;1m\u001b[1;3mFinal Answer: To synthesize Riccis's organocatalyst (1-(3,5-Bis(trifluoromethyl)phenyl)-3-((1R,2S)-2-hydroxy-2,3-dihydro-1H-inden-1-yl)thiourea), follow this 1-step synthesis:\n",
      "\n",
      "1. Add 0.3 mmol of (1R,2S)-1-amino-2-indanol to the reaction vessel.\n",
      "2. Add 0.2 ml of THF to the reaction vessel.\n",
      "3. Add 0.4 mmol of 3,5-bis(trifluoromethyl)phenyl isothiocyanate to the reaction vessel.\n",
      "4. Stir the mixture at 25°C for 86400 seconds (24 hours) at a normal stirring speed.\n",
      "5. Concentrate the reaction mixture.\n",
      "6. Purify the product.\n",
      "7. Store the final product as O[C@H]1Cc2ccccc2[C@H]1NC(=S)Nc1cc(C(F)(F)F)cc(C(F)(F)F)c1.\n",
      "\n",
      "Note: The ExplosiveCheck tool could not determine if Riccis's organocatalyst is explosive. Proceed with caution.\u001b[0m\n",
      "\n",
      "\u001b[1m> Finished chain.\u001b[0m\n",
      "\u001b[1;30;43mChemCrow output: To synthesize Riccis's organocatalyst (1-(3,5-Bis(trifluoromethyl)phenyl)-3-((1R,2S)-2-hydroxy-2,3-dihydro-1H-inden-1-yl)thiourea), follow this 1-step synthesis:\n",
      "\n",
      "1. Add 0.3 mmol of (1R,2S)-1-amino-2-indanol to the reaction vessel.\n",
      "2. Add 0.2 ml of THF (tetrahydrofuran) to the reaction vessel.\n",
      "3. Add 0.4 mmol of 3,5-bis(trifluoromethyl)phenyl isothiocyanate to the reaction vessel.\n",
      "4. Stir the mixture at 25°C for 86400 seconds (24 hours) at a normal stirring speed.\n",
      "5. Concentrate the reaction mixture.\n",
      "6. Purify the product using an appropriate purification method.\n",
      "7. Store the final product as O[C@H]1Cc2ccccc2[C@H]1NC(=S)Nc1cc(C(F)(F)F)cc(C(F)(F)F)c1.\n",
      "\n",
      "Please note that the ExplosiveCheck tool could not determine if Riccis's organocatalyst is explosive. Proceed with caution during the synthesis process.\n"
     ]
    }
   ],
   "source": [
    "# First, answer with tools\n",
    "\n",
    "mrkl = ChemCrow(\n",
    "    chemtools.all_tools,\n",
    "    model=\"gpt-4\",\n",
    "    temp=0.1,\n",
    ")\n",
    "\n",
    "result_tools = mrkl.run(task)"
   ]
  },
  {
   "cell_type": "code",
   "execution_count": 4,
   "id": "999bf3dc",
   "metadata": {},
   "outputs": [
    {
     "name": "stdout",
     "output_type": "stream",
     "text": [
      "To synthesize Ricci's organocatalyst (1-(3,5-Bis(trifluoromethyl)phenyl)-3-((1R,2S)-2-hydroxy-2,3-dihydro-1H-inden-1-yl)thiourea), we can follow a stepwise approach. Here's a possible synthetic route:\n",
      "\n",
      "1. Synthesis of (1R,2S)-2-hydroxy-2,3-dihydro-1H-inden-1-ylamine:\n",
      "Starting with (1R,2S)-1-amino-2-indanol, protect the hydroxyl group using a suitable protecting group, such as tert-butyldimethylsilyl chloride (TBDMS-Cl) in the presence of imidazole as a base to obtain (1R,2S)-1-amino-2-(tert-butyldimethylsilyloxy)indane.\n",
      "\n",
      "2. Synthesis of 3,5-bis(trifluoromethyl)phenyl isothiocyanate:\n",
      "Starting with 3,5-bis(trifluoromethyl)aniline, treat it with thiophosgene (CSCl2) to form 3,5-bis(trifluoromethyl)phenyl isothiocyanate.\n",
      "\n",
      "3. Formation of the thiourea core:\n",
      "Combine (1R,2S)-1-amino-2-(tert-butyldimethylsilyloxy)indane and 3,5-bis(trifluoromethyl)phenyl isothiocyanate in the presence of a suitable base, such as triethylamine (Et3N), to form the thiourea core and obtain (1R,2S)-1-(3,5-bis(trifluoromethyl)phenyl)-3-(2-(tert-butyldimethylsilyloxy)-2,3-dihydro-1H-inden-1-yl)thiourea.\n",
      "\n",
      "4. Deprotection of the hydroxyl group:\n",
      "Remove the TBDMS protecting group by treating the compound with a suitable deprotecting agent, such as tetra-n-butylammonium fluoride (TBAF) in THF, to obtain the desired Ricci's organocatalyst, 1-(3,5-Bis(trifluoromethyl)phenyl)-3-((1R,2S)-2-hydroxy-2,3-dihydro-1H-inden-1-yl)thiourea.\n",
      "\n",
      "Please note that the stereochemistry of the starting materials and the reaction conditions should be carefully controlled to ensure the desired stereochemistry in the final product.\n"
     ]
    }
   ],
   "source": [
    "# Now answer without tools\n",
    "\n",
    "notools = NoToolsAgent(model=\"gpt-4\", temp=0.1)\n",
    "result_notools = notools.run(task)\n",
    "print(result_notools)"
   ]
  },
  {
   "cell_type": "code",
   "execution_count": 5,
   "id": "2f218d00",
   "metadata": {},
   "outputs": [
    {
     "name": "stdout",
     "output_type": "stream",
     "text": [
      "Student 1's Grade: 7\n",
      "Strengths: The student provided a clear and concise 1-step synthesis process, including specific amounts of reactants, reaction conditions, and purification steps.\n",
      "Weaknesses: The student did not consider the need for protecting groups or stereochemistry control during the synthesis process.\n",
      "Grade Justification: The student's answer demonstrates a good understanding of the synthesis process but lacks attention to important details, such as protecting groups and stereochemistry control, which are crucial for the successful synthesis of Ricci's organocatalyst.\n",
      "\n",
      "Student 2's Grade: 9\n",
      "Strengths: The student provided a detailed stepwise approach, considering the need for protecting groups and stereochemistry control. The synthesis route is well thought out and addresses the full given problem.\n",
      "Weaknesses: The student could have provided more specific information about reaction conditions, such as temperature, time, and solvent choice, for each step of the synthesis.\n",
      "Grade Justification: The student's answer demonstrates a thorough understanding of the synthesis process and addresses the full given problem. However, there is room for improvement in providing more specific details about reaction conditions.\n"
     ]
    }
   ],
   "source": [
    "# Now get teacher's eval\n",
    "\n",
    "teacher = Evaluator(model=\"gpt-4\", temp=0.1)\n",
    "\n",
    "assess = teacher.run(task, result_tools, result_notools)\n",
    "print(assess)"
   ]
  }
 ],
 "metadata": {
  "kernelspec": {
   "display_name": "chemcrow",
   "language": "python",
   "name": "chemcrow"
  },
  "language_info": {
   "codemirror_mode": {
    "name": "ipython",
    "version": 3
   },
   "file_extension": ".py",
   "mimetype": "text/x-python",
   "name": "python",
   "nbconvert_exporter": "python",
   "pygments_lexer": "ipython3",
   "version": "3.11.3"
  }
 },
 "nbformat": 4,
 "nbformat_minor": 5
}
