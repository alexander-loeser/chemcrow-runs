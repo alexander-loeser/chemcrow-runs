{
 "cells": [
  {
   "cell_type": "code",
   "execution_count": null,
   "id": "e93a94f6",
   "metadata": {},
   "outputs": [],
   "source": [
    "import os\n",
    "from dotenv import load_dotenv\n",
    "from chemcrow.agents import ChemTools, ChemCrow\n",
    "from chemcrow.evaluation import NoToolsAgent, Evaluator\n",
    "\n",
    "load_dotenv()\n",
    "chemtools = ChemTools()"
   ]
  },
  {
   "cell_type": "code",
   "execution_count": 3,
   "id": "c95859ca-ea28-4191-86f4-ccc6c7cd5ad1",
   "metadata": {},
   "outputs": [
    {
     "name": "stdout",
     "output_type": "stream",
     "text": [
      "\n",
      "Plan the synthesis of an insect repellent.\n",
      "\n"
     ]
    }
   ],
   "source": [
    "task = \"\"\"\n",
    "Plan the synthesis of an insect repellent.\n",
    "\"\"\"\n",
    "print(task)"
   ]
  },
  {
   "cell_type": "code",
   "execution_count": 4,
   "id": "37c939ea-ee9a-47c6-91f8-91f3a0edc94b",
   "metadata": {},
   "outputs": [
    {
     "name": "stdout",
     "output_type": "stream",
     "text": [
      "\n",
      "\n",
      "\u001b[1m> Entering new RetryAgentExecutor chain...\u001b[0m\n",
      "\u001b[32;1m\u001b[1;3mI need to find an insect repellent molecule to plan its synthesis.\n",
      "Action: LitSearch\n",
      "Action Input: What is a common insect repellent molecule?\u001b[0m\n",
      "Search: insect repellent molecule\n",
      "\n",
      "Found 10 papers but couldn't load 5\n",
      "\n",
      "Observation: \u001b[33;1m\u001b[1;3m N,N-diethyl-m-toluamide (DEET) is a common insect repellent molecule that has been used for over 50 years to reduce the risk of vector-borne diseases (Zainulabeuddin1359 pages 1-1). It is detected by olfactory receptor neurons (ORNs) housed in trichoid sensilla on the antennae of mosquitoes (Zainulabeuddin1359 pages 2-2). DEET modulates the physiological response of lactic acid-sensitive olfactory receptor neurons in the antennae of the yellow fever mosquito, Aedes aegypti (Zainulabeuddin1359 pages 1-1). Citronellal is another naturally occurring insect repellent molecule that is commonly used in lotions, sprays and candles to repel mosquitoes, fleas and ticks (Young1672 pages 1-2). In an ethnobotanical survey conducted in Ethiopia, Shita, a mixture of various repellent plant parts such as stem, root, resin, leaves and bark, was the most renowned traditional insect repellent (Kaliyaperumal2014 pages 7-8). (Zainulabeuddin1359 pages 1-1, Z\u001b[0m\n",
      "Thought:\u001b[32;1m\u001b[1;3mI will plan the synthesis of DEET as it is a common insect repellent molecule.\n",
      "Action: Name2SMILES\n",
      "Action Input: N,N-diethyl-m-toluamide\u001b[0m\n",
      "Observation: \u001b[36;1m\u001b[1;3mCCN(CC)C(=O)c1cccc(C)c1\u001b[0m\n",
      "Thought:\u001b[32;1m\u001b[1;3mNow I will plan the synthesis of DEET using the SMILES representation.\n",
      "Action: RXNPlanner\n",
      "Action Input: CCN(CC)C(=O)c1cccc(C)c1\u001b[0m\u001b[1;34m\t\n",
      "Submitting retrosynthesis prediction to RXN...\u001b[00m\n",
      "\u001b[1;34m\tObtained 16 synthetic routes.\u001b[00m\n",
      "\u001b[1;34m\t\n",
      "\u001b[00m\n",
      "\u001b[1;34m\tSelecting route...\u001b[00m\n",
      "\u001b[1;34m\tRequesting synthetic procedure for selected path...\u001b[00m\n",
      "\u001b[1;34m\tCollected reaction step with nodeid 6463d6e8b5d804001f04c47f\u001b[00m\n",
      "\n",
      "Observation: \u001b[36;1m\u001b[1;3m\n",
      "\n",
      "To make DETA (CCN(CC)C(=O)c1cccc(C)c1) with a product mass of 500 mg, you can follow a 1-step synthesis, as described below.\n",
      "\n",
      "Reaction step 1: Synthesis of DETA (CCN(CC)C(=O)c1cccc(C)c1)\n",
      "\n",
      "1. Add 0.5 mmol of 3-methylbenzoyl chloride to the reaction vessel. (Note: There is an error in the original instructions, as the ingredient for 3-methylbenzoyl chloride is missing.)\n",
      "\n",
      "2. Add 0.3 ml of diethylamine to the reaction vessel. (Note: There is an error in the original instructions, as the ingredient for diethylamine is missing.)\n",
      "\n",
      "3. Stir the mixture for 86400 seconds (24 hours) at 25°C with normal stirring speed. (Note: There is an error in the original instructions, as the action \"Stir\" is being executed for a reactor with no liquid, which does not make sense.)\n",
      "\n",
      "4. Concentrate the reaction mixture. (Note: There is an error in the original instructions, as the action \"Concentrate\" is being executed for a reactor with no liquid, which does not make sense.)\n",
      "\n",
      "5. Purify the product. (Note: There is an error in the original instructions, as the action type \"Purify\" cannot currently be converted to a Chemspeed instruction.)\n",
      "\n",
      "6. Store the final product, DETA (CCN(CC)C(=O)c1cccc(C)c1).\n",
      "\n",
      "Please note that there are several errors in the original instructions, which may affect the success of the synthesis.\u001b[0m\n",
      "Thought:\u001b[32;1m\u001b[1;3mFinal Answer: To synthesize the insect repellent DEET (N,N-diethyl-m-toluamide), follow this 1-step synthesis:\n",
      "\n",
      "1. Add 0.5 mmol of 3-methylbenzoyl chloride to the reaction vessel.\n",
      "2. Add 0.3 ml of diethylamine to the reaction vessel.\n",
      "3. Stir the mixture for 24 hours at 25°C with normal stirring speed.\n",
      "4. Concentrate the reaction mixture.\n",
      "5. Purify the product.\n",
      "6. Store the final product, DEET (N,N-diethyl-m-toluamide).\n",
      "\n",
      "Please note that there are several errors in the original instructions, which may affect the success of the synthesis.\u001b[0m\n",
      "\n",
      "\u001b[1m> Finished chain.\u001b[0m\n"
     ]
    }
   ],
   "source": [
    "# First, answer with tools\n",
    "\n",
    "mrkl = ChemCrow(\n",
    "    chemtools.all_tools,\n",
    "    model=\"gpt-4\",\n",
    "    temp=0.1,\n",
    ")\n",
    "\n",
    "result_tools = mrkl.run(task)"
   ]
  },
  {
   "cell_type": "code",
   "execution_count": 5,
   "id": "190cfada",
   "metadata": {},
   "outputs": [
    {
     "name": "stdout",
     "output_type": "stream",
     "text": [
      "To plan the synthesis of an insect repellent, we will focus on creating a compound similar to DEET (N,N-diethyl-meta-toluamide), which is one of the most widely used and effective insect repellents. The synthesis of DEET involves a two-step process:\n",
      "\n",
      "1. Preparation of m-toluoyl chloride:\n",
      "First, we need to prepare m-toluoyl chloride, which is an intermediate compound in the synthesis of DEET. This can be done by reacting m-toluic acid (3-methylbenzoic acid) with thionyl chloride (SOCl2) in the presence of a catalytic amount of dimethylformamide (DMF). The reaction takes place under reflux conditions, and the excess thionyl chloride is removed by distillation.\n",
      "\n",
      "Reaction:\n",
      "m-toluic acid + SOCl2 → m-toluoyl chloride + SO2 + HCl\n",
      "\n",
      "2. Formation of DEET:\n",
      "Next, we will react the m-toluoyl chloride with diethylamine (Et2NH) to form DEET. This reaction is an amide coupling reaction, where the amine group of diethylamine reacts with the acyl chloride group of m-toluoyl chloride to form an amide bond. The reaction is typically carried out in an anhydrous solvent, such as dichloromethane (DCM), at low temperatures to minimize side reactions.\n",
      "\n",
      "Reaction:\n",
      "m-toluoyl chloride + Et2NH → DEET + HCl\n",
      "\n",
      "After the reaction is complete, the product can be purified by washing with water to remove any unreacted diethylamine and HCl, followed by drying and recrystallization or distillation to obtain pure DEET.\n",
      "\n",
      "It is important to note that the synthesis of DEET should be carried out in a well-ventilated area or a fume hood, as some of the chemicals involved are toxic and can produce harmful vapors. Additionally, proper personal protective equipment, such as gloves and goggles, should be worn during the synthesis process.\n"
     ]
    }
   ],
   "source": [
    "# Now answer without tools\n",
    "notools = NoToolsAgent(model=\"gpt-4\", temp=0.1)\n",
    "result_notools = notools.run(task)\n",
    "print(result_notools)"
   ]
  },
  {
   "cell_type": "code",
   "execution_count": 6,
   "id": "a30efacd",
   "metadata": {},
   "outputs": [
    {
     "name": "stdout",
     "output_type": "stream",
     "text": [
      "Student 1's Grade: 8\n",
      "Strengths: Student 1 demonstrated a clear thought process in identifying DEET as a common insect repellent molecule and provided a detailed synthesis plan. They also used various tools and resources to gather information and plan the synthesis.\n",
      "Weaknesses: The synthesis plan provided by Student 1 contains errors and inconsistencies, which may affect the success of the synthesis. Additionally, they did not mention any safety precautions or considerations for the synthesis process.\n",
      "Grade Justification: Student 1's answer shows a good understanding of the task and a clear thought process. However, the errors in the synthesis plan and the lack of safety considerations prevent them from achieving a perfect score.\n",
      "\n",
      "Student 2's Grade: 9\n",
      "Strengths: Student 2 provided a clear and concise synthesis plan for DEET, including the preparation of an intermediate compound. They also mentioned safety precautions and considerations for the synthesis process.\n",
      "Weaknesses: Student 2's answer could be improved by providing more details on the reaction conditions, such as temperature, solvent, and reaction time. Additionally, they did not use any tools or resources to support their synthesis plan.\n",
      "Grade Justification: Student 2's answer demonstrates a clear understanding of the task and a well-organized thought process. The inclusion of safety precautions is a strength, but the lack of specific reaction conditions and the absence of tools or resources used in the planning process prevent them from achieving a perfect score.\n"
     ]
    }
   ],
   "source": [
    "# Now get teacher's eval\n",
    "\n",
    "teacher = Evaluator(model=\"gpt-4\", temp=0.1)\n",
    "\n",
    "assess = teacher.run(task, result_tools, result_notools)\n",
    "print(assess)"
   ]
  }
 ],
 "metadata": {
  "kernelspec": {
   "display_name": "chemcrow",
   "language": "python",
   "name": "chemcrow"
  },
  "language_info": {
   "codemirror_mode": {
    "name": "ipython",
    "version": 3
   },
   "file_extension": ".py",
   "mimetype": "text/x-python",
   "name": "python",
   "nbconvert_exporter": "python",
   "pygments_lexer": "ipython3",
   "version": "3.11.3"
  }
 },
 "nbformat": 4,
 "nbformat_minor": 5
}
