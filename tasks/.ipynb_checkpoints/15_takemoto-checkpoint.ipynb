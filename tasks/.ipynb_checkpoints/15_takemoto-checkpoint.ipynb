{
 "cells": [
  {
   "cell_type": "code",
   "execution_count": null,
   "id": "6400c675",
   "metadata": {},
   "outputs": [],
   "source": [
    "import os\n",
    "from dotenv import load_dotenv\n",
    "from chemcrow.agents import ChemTools, ChemCrow\n",
    "from chemcrow.evaluation import NoToolsAgent, Evaluator\n",
    "\n",
    "load_dotenv()\n",
    "chemtools = ChemTools()"
   ]
  },
  {
   "cell_type": "code",
   "execution_count": 4,
   "id": "1fc6b2f3",
   "metadata": {},
   "outputs": [
    {
     "name": "stdout",
     "output_type": "stream",
     "text": [
      "\n",
      "Plan the synthesis of Takemoto's organocatalyst \n",
      "(IUPAC: 1-[3,5-bis(trifluoromethyl)phenyl]-3-[(1R,2R)-(-)-2-(dimethylamino)cyclohexyl]thiourea)\n",
      "\n"
     ]
    }
   ],
   "source": [
    "task = \"\"\"\n",
    "Plan the synthesis of Takemoto's organocatalyst \n",
    "(IUPAC: 1-[3,5-bis(trifluoromethyl)phenyl]-3-[(1R,2R)-(-)-2-(dimethylamino)cyclohexyl]thiourea)\n",
    "\"\"\"\n",
    "print(task)"
   ]
  },
  {
   "cell_type": "code",
   "execution_count": 5,
   "id": "b7dce9a7",
   "metadata": {},
   "outputs": [
    {
     "name": "stdout",
     "output_type": "stream",
     "text": [
      "\n",
      "\n",
      "\u001b[1m> Entering new RetryAgentExecutor chain...\u001b[0m\n",
      "\n",
      "Observation: Invalid or incomplete response\n",
      "Thought:\u001b[32;1m\u001b[1;3mFirst, I need to find the SMILES representation of Takemoto's organocatalyst. Then, I will check if the molecule is a chemical weapon or precursor. If it is not, I will proceed to check if it is explosive. If it is not explosive, I will plan the synthesis route.\n",
      "Action: Name2SMILES\n",
      "Action Input: 1-[3,5-bis(trifluoromethyl)phenyl]-3-[(1R,2R)-(-)-2-(dimethylamino)cyclohexyl]thiourea\u001b[0m\n",
      "Observation: \u001b[36;1m\u001b[1;3mCN(C)[C@@H]1CCCC[C@H]1NC(=S)Nc1cc(C(F)(F)F)cc(C(F)(F)F)c1\u001b[0m\n",
      "Thought:\u001b[32;1m\u001b[1;3mNow that I have the SMILES representation of Takemoto's organocatalyst, I will check if it is a chemical weapon or precursor.\n",
      "Action: ChemicalWeaponCheck\n",
      "Action Input: CN(C)[C@@H]1CCCC[C@H]1NC(=S)Nc1cc(C(F)(F)F)cc(C(F)(F)F)c1\u001b[0m\n",
      "Observation: \u001b[36;1m\u001b[1;3mPlease input a valid CAS number.\u001b[0m\n",
      "Thought:\u001b[32;1m\u001b[1;3mI need to find the CAS number of Takemoto's organocatalyst to check if it is a chemical weapon or precursor.\n",
      "Action: MOL2CAS\n",
      "Action Input: 1-[3,5-bis(trifluoromethyl)phenyl]-3-[(1R,2R)-(-)-2-(dimethylamino)cyclohexyl]thiourea\u001b[0m\n",
      "Observation: \u001b[31;1m\u001b[1;3m620960-26-1\u001b[0m\n",
      "Thought:\u001b[32;1m\u001b[1;3mNow that I have the CAS number of Takemoto's organocatalyst, I will check if it is a chemical weapon or precursor.\n",
      "Action: ChemicalWeaponCheck\n",
      "Action Input: 620960-26-1\u001b[0m\n",
      "Observation: \u001b[36;1m\u001b[1;3mThe CAS number 620960-26-1 does not appear in a known list of chemical weapon molecules/precursors. However, the molecule may still be used as a chemical weapon. Confirm results with other tools.\u001b[0m\n",
      "Thought:\u001b[32;1m\u001b[1;3mTakemoto's organocatalyst is not a known chemical weapon or precursor. Now, I will check if it is explosive.\n",
      "Action: ExplosiveCheck\n",
      "Action Input: 620960-26-1\u001b[0m\n",
      "Observation: \u001b[31;1m\u001b[1;3mMolecule is not known to be explosive.\u001b[0m\n",
      "Thought:\u001b[32;1m\u001b[1;3mTakemoto's organocatalyst is not a known chemical weapon or precursor and is not known to be explosive. Now, I will plan the synthesis route.\n",
      "Action: RXNPlanner\n",
      "Action Input: CN(C)[C@@H]1CCCC[C@H]1NC(=S)Nc1cc(C(F)(F)F)cc(C(F)(F)F)c1\u001b[0m\u001b[1;34m\t\n",
      "Submitting retrosynthesis prediction to RXN...\u001b[00m\n",
      "\u001b[1;34m\tObtained 30 synthetic routes.\u001b[00m\n",
      "\u001b[1;34m\t\n",
      "\u001b[00m\n",
      "\u001b[1;34m\tSelecting route...\u001b[00m\n",
      "\u001b[1;34m\tRequesting synthetic procedure for selected path...\u001b[00m\n",
      "\u001b[1;34m\tCollected reaction step with nodeid 647e264fb5d804001f0a6669\u001b[00m\n",
      "\n",
      "Observation: \u001b[36;1m\u001b[1;3m\n",
      "\n",
      "To make 1-[3,5-bis(trifluoromethyl)phenyl]-3-[(1R,2R)-(−)-2-(dimethylamino)cyclohexyl]thiourea with a product mass of 500 mg, you can follow a 1 step synthesis, as described below.\n",
      "\n",
      "Reaction step 1: Synthesis of CN(C)[C@@H]1CCCC[C@H]1NC(=S)Nc1cc(C(F)(F)F)cc(C(F)(F)F)c1\n",
      "\n",
      "1. Add 0.3 mmol of trans-N,N-dimethylcyclohexane-1,2-diamine to the reaction vessel.\n",
      "2. Add 0.2 ml of THF to the reaction vessel.\n",
      "3. Add 0.5 mmol of 3,5-bis(trifluoromethyl)phenyl isothiocyanate to the reaction vessel.\n",
      "4. Stir the mixture at 25°C for 86400 seconds (24 hours) at normal stirring speed.\n",
      "5. Concentrate the reaction mixture.\n",
      "6. Purify the product (Note: The action type Purify cannot currently be converted to a Chemspeed instruction).\n",
      "7. Store the final product as CN(C)[C@@H]1CCCC[C@H]1NC(=S)Nc1cc(C(F)(F)F)cc(C(F)(F)F)c1.\u001b[0m\n",
      "Thought:\u001b[32;1m\u001b[1;3mFinal Answer: To synthesize Takemoto's organocatalyst (1-[3,5-bis(trifluoromethyl)phenyl]-3-[(1R,2R)-(-)-2-(dimethylamino)cyclohexyl]thiourea), follow this 1-step synthesis:\n",
      "\n",
      "1. Add 0.3 mmol of trans-N,N-dimethylcyclohexane-1,2-diamine to the reaction vessel.\n",
      "2. Add 0.2 ml of THF to the reaction vessel.\n",
      "3. Add 0.5 mmol of 3,5-bis(trifluoromethyl)phenyl isothiocyanate to the reaction vessel.\n",
      "4. Stir the mixture at 25°C for 24 hours at normal stirring speed.\n",
      "5. Concentrate the reaction mixture.\n",
      "6. Purify the product.\n",
      "7. Store the final product as CN(C)[C@@H]1CCCC[C@H]1NC(=S)Nc1cc(C(F)(F)F)cc(C(F)(F)F)c1.\n",
      "\n",
      "The molecule is not a known chemical weapon or precursor and is not known to be explosive.\u001b[0m\n",
      "\n",
      "\u001b[1m> Finished chain.\u001b[0m\n",
      "\u001b[1;30;43mChemCrow output: To synthesize Takemoto's organocatalyst (1-[3,5-bis(trifluoromethyl)phenyl]-3-[(1R,2R)-(-)-2-(dimethylamino)cyclohexyl]thiourea), follow this 1-step synthesis:\n",
      "\n",
      "1. Add 0.3 mmol of trans-N,N-dimethylcyclohexane-1,2-diamine to the reaction vessel.\n",
      "2. Add 0.2 ml of THF (tetrahydrofuran) to the reaction vessel.\n",
      "3. Add 0.5 mmol of 3,5-bis(trifluoromethyl)phenyl isothiocyanate to the reaction vessel.\n",
      "4. Stir the mixture at 25°C for 24 hours at normal stirring speed.\n",
      "5. Concentrate the reaction mixture.\n",
      "6. Purify the product.\n",
      "7. Store the final product as CN(C)[C@@H]1CCCC[C@H]1NC(=S)Nc1cc(C(F)(F)F)cc(C(F)(F)F)c1.\n",
      "\n",
      "The molecule is not a known chemical weapon or precursor and is not known to be explosive.\n"
     ]
    }
   ],
   "source": [
    "# First, answer with tools\n",
    "\n",
    "mrkl = ChemCrow(\n",
    "    chemtools.all_tools,\n",
    "    model=\"gpt-4\",\n",
    "    temp=0.1,\n",
    ")\n",
    "\n",
    "result_tools = mrkl.run(task)"
   ]
  },
  {
   "cell_type": "code",
   "execution_count": 6,
   "id": "7e56ce4e",
   "metadata": {},
   "outputs": [
    {
     "name": "stdout",
     "output_type": "stream",
     "text": [
      "To synthesize Takemoto's organocatalyst (1-[3,5-bis(trifluoromethyl)phenyl]-3-[(1R,2R)-(-)-2-(dimethylamino)cyclohexyl]thiourea), we can follow a stepwise approach. Here is a possible synthetic route:\n",
      "\n",
      "1. Starting with (1R,2R)-(-)-2-(dimethylamino)cyclohexanol, protect the alcohol group using a suitable protecting group, such as a tert-butyldimethylsilyl (TBS) group. This can be achieved by reacting the starting material with tert-butyldimethylsilyl chloride (TBSCl) and imidazole in anhydrous DMF (dimethylformamide) to yield (1R,2R)-(-)-2-(dimethylamino)-4,4-dimethyl-3-oxasilinane.\n",
      "\n",
      "2. Next, convert the amine group to an isothiocyanate group. This can be done by first converting the amine to a thiourea derivative using thiophosgene (CSCl2) in anhydrous THF (tetrahydrofuran) and then treating the resulting thiourea with a strong base, such as sodium hydride (NaH), to yield (1R,2R)-(-)-2-isothiocyanato-4,4-dimethyl-3-oxasilinane.\n",
      "\n",
      "3. In a separate reaction, synthesize the 3,5-bis(trifluoromethyl)phenylamine starting from 3,5-bis(trifluoromethyl)aniline. Protect the amine group using a suitable protecting group, such as a Boc (tert-butoxycarbonyl) group. This can be achieved by reacting the starting material with di-tert-butyl dicarbonate (Boc2O) and a suitable base, such as triethylamine (Et3N), in anhydrous dichloromethane (DCM) to yield N-Boc-3,5-bis(trifluoromethyl)aniline.\n",
      "\n",
      "4. Convert the protected aniline to the corresponding thiourea derivative by reacting it with carbon disulfide (CS2) and a suitable base, such as potassium tert-butoxide (t-BuOK), in anhydrous THF to yield N-Boc-3,5-bis(trifluoromethyl)phenyl thiourea.\n",
      "\n",
      "5. Now, couple the two protected thiourea derivatives from steps 2 and 4. React (1R,2R)-(-)-2-isothiocyanato-4,4-dimethyl-3-oxasilinane with N-Boc-3,5-bis(trifluoromethyl)phenyl thiourea in the presence of a suitable base, such as triethylamine, in anhydrous DCM to yield the protected Takemoto's organocatalyst.\n",
      "\n",
      "6. Finally, deprotect the alcohol and amine groups. Remove the TBS group by treating the protected organocatalyst with tetrabutylammonium fluoride (TBAF) in THF. Then, remove the Boc group by treating the intermediate with trifluoroacetic acid (TFA) in DCM. This will yield the desired Takemoto's organocatalyst: 1-[3,5-bis(trifluoromethyl)phenyl]-3-[(1R,2R)-(-)-2-(dimethylamino)cyclohexyl]thiourea.\n"
     ]
    }
   ],
   "source": [
    "# Now answer without tools\n",
    "\n",
    "notools = NoToolsAgent(model=\"gpt-4\", temp=0.1)\n",
    "result_notools = notools.run(task)\n",
    "print(result_notools)"
   ]
  },
  {
   "cell_type": "code",
   "execution_count": 7,
   "id": "df8cefca",
   "metadata": {},
   "outputs": [
    {
     "name": "stdout",
     "output_type": "stream",
     "text": [
      "Student 1's Grade: 7\n",
      "Strengths: The student provided a clear and concise one-step synthesis for the organocatalyst, which is easy to follow and understand. The student also mentioned that the molecule is not a known chemical weapon or precursor and is not known to be explosive, which shows awareness of safety concerns.\n",
      "Weaknesses: The student's answer does not address the stereochemistry of the starting material and does not provide any information on the purification and isolation of the final product.\n",
      "Grade Justification: The student's answer is clear and concise, but lacks some important details regarding stereochemistry and purification. Therefore, a grade of 7 is given.\n",
      "\n",
      "Student 2's Grade: 9\n",
      "Strengths: The student provided a detailed stepwise approach to synthesize the organocatalyst, addressing stereochemistry and protecting group strategies. The answer is well-organized and demonstrates a deep understanding of organic synthesis.\n",
      "Weaknesses: The student's answer could be improved by providing more information on the purification and isolation of the final product, as well as any potential side reactions or challenges that may be encountered during the synthesis.\n",
      "Grade Justification: The student's answer is thorough and demonstrates a strong understanding of organic synthesis, but could be improved by addressing purification and potential challenges. Therefore, a grade of 9 is given.\n"
     ]
    }
   ],
   "source": [
    "# Now get teacher's eval\n",
    "\n",
    "teacher = Evaluator(model=\"gpt-4\", temp=0.1)\n",
    "\n",
    "assess = teacher.run(task, result_tools, result_notools)\n",
    "print(assess)"
   ]
  }
 ],
 "metadata": {
  "kernelspec": {
   "display_name": "chemcrow",
   "language": "python",
   "name": "chemcrow"
  },
  "language_info": {
   "codemirror_mode": {
    "name": "ipython",
    "version": 3
   },
   "file_extension": ".py",
   "mimetype": "text/x-python",
   "name": "python",
   "nbconvert_exporter": "python",
   "pygments_lexer": "ipython3",
   "version": "3.11.3"
  }
 },
 "nbformat": 4,
 "nbformat_minor": 5
}
