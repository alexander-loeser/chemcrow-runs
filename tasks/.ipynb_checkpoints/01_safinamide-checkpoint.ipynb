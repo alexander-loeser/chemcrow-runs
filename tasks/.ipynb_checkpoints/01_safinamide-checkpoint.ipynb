{
 "cells": [
  {
   "cell_type": "code",
   "execution_count": 1,
   "id": "437b7a3d",
   "metadata": {},
   "outputs": [],
   "source": [
    "import os\n",
    "from dotenv import load_dotenv\n",
    "from chemcrow.agents import ChemTools, ChemCrow\n",
    "from chemcrow.evaluation import NoToolsAgent, Evaluator\n",
    "\n",
    "load_dotenv()\n",
    "chemtools = ChemTools()"
   ]
  },
  {
   "cell_type": "code",
   "execution_count": 2,
   "id": "c95859ca-ea28-4191-86f4-ccc6c7cd5ad1",
   "metadata": {},
   "outputs": [
    {
     "name": "stdout",
     "output_type": "stream",
     "text": [
      "\n",
      "I need to synthesize a sample of safinamide.\n",
      "Please tell me how to synthesize it. Then tell me \n",
      "how much will it cost to buy all the reactants I need, if purchasable.\n",
      "\n"
     ]
    }
   ],
   "source": [
    "task = \"\"\"\n",
    "I need to synthesize a sample of safinamide.\n",
    "Please tell me how to synthesize it. Then tell me \n",
    "how much will it cost to buy all the reactants I need, if purchasable.\n",
    "\"\"\"\n",
    "print(task)"
   ]
  },
  {
   "cell_type": "code",
   "execution_count": 3,
   "id": "37c939ea-ee9a-47c6-91f8-91f3a0edc94b",
   "metadata": {},
   "outputs": [
    {
     "name": "stdout",
     "output_type": "stream",
     "text": [
      "\n",
      "\n",
      "\u001b[1m> Entering new RetryAgentExecutor chain...\u001b[0m\n",
      "\n",
      "Observation: Invalid or incomplete response\n",
      "Thought:\u001b[32;1m\u001b[1;3mI need to find the SMILES representation of safinamide and then use RXNPlanner to find a synthesis route. After that, I will calculate the cost of the reactants.\n",
      "Action: Name2SMILES\n",
      "Action Input: safinamide\u001b[0m\n",
      "Observation: \u001b[36;1m\u001b[1;3mC[C@H](NCc1ccc(OCc2cccc(F)c2)cc1)C(N)=O\u001b[0m\n",
      "Thought:\u001b[32;1m\u001b[1;3mNow I have the SMILES representation of safinamide, I will use RXNPlanner to find a synthesis route.\n",
      "Action: RXNPlanner\n",
      "Action Input: C[C@H](NCc1ccc(OCc2cccc(F)c2)cc1)C(N)=O\u001b[0m\u001b[1;34m\t\n",
      "Submitting retrosynthesis prediction to RXN...\u001b[00m\n",
      "\u001b[1;34m\tObtained 10 synthetic routes.\u001b[00m\n",
      "\u001b[1;34m\t\n",
      "\u001b[00m\n",
      "\u001b[1;34m\tSelecting route...\u001b[00m\n",
      "\u001b[1;34m\tRequesting synthetic procedure for selected path...\u001b[00m\n",
      "\u001b[1;34m\tCollected reaction step with nodeid 6479eedfb5d804001f0987ba\u001b[00m\n",
      "\n",
      "Observation: \u001b[31;1m\u001b[1;3m\n",
      "\n",
      "To make (S)-2[4-(3-fluorobenzyloxy)benzylamino]propanamide with a product mass of 500 mg, you can follow a 1-step synthesis, as described below.\n",
      "\n",
      "Reaction step 1: Synthesis of (S)-2[4-(3-fluorobenzyloxy)benzylamino]propanamide\n",
      "\n",
      "1. Add 0.5 mmol of 4-(3-fluorobenzyloxy)benzaldehyde to the reaction vessel.\n",
      "2. Add 0.2 mmol of L-alaninamide to the reaction vessel.\n",
      "3. Stir the mixture for 3600 seconds at 100°C with a normal stirring speed. (Note: This action has been marked as invalid due to the reactor having no liquid, but we will proceed with the instructions as given.)\n",
      "4. Purify the reaction mixture. (Note: This action has been marked as invalid as it cannot currently be converted to a Chemspeed instruction.)\n",
      "5. Store the final product, (S)-2[4-(3-fluorobenzyloxy)benzylamino]propanamide.\n",
      "\n",
      "Please note that some actions in this synthesis have been marked as invalid, so proceed with caution and consider revising the procedure if necessary.\u001b[0m\n",
      "Thought:\u001b[32;1m\u001b[1;3mNow I have a synthesis route for safinamide, I will calculate the cost of the reactants: 4-(3-fluorobenzyloxy)benzaldehyde and L-alaninamide.\n",
      "Action: Name2SMILES\n",
      "Action Input: 4-(3-fluorobenzyloxy)benzaldehyde\u001b[0m\n",
      "Observation: \u001b[36;1m\u001b[1;3mO=Cc1ccc(OCc2cccc(F)c2)cc1\u001b[0m\n",
      "Thought:\u001b[32;1m\u001b[1;3mNow I have the SMILES representation of 4-(3-fluorobenzyloxy)benzaldehyde, I will find its price.\n",
      "Action: SMILES2Price\n",
      "Action Input: O=Cc1ccc(OCc2cccc(F)c2)cc1\u001b[0mObtaining data for 1 substances.\n",
      "\n",
      "Observation: \u001b[33;1m\u001b[1;3m250.0mg of this molecule cost 5 USD and can be purchased at Aaron Chemicals LLC.\u001b[0m\n",
      "Thought:\u001b[32;1m\u001b[1;3mNow I have the price of 4-(3-fluorobenzyloxy)benzaldehyde, I will find the SMILES representation and price of L-alaninamide.\n",
      "Action: Name2SMILES\n",
      "Action Input: L-alaninamide\u001b[0m\n",
      "Observation: \u001b[36;1m\u001b[1;3mC[C@H](N)C(N)=O\u001b[0m\n",
      "Thought:\u001b[32;1m\u001b[1;3mNow I have the SMILES representation of L-alaninamide, I will find its price.\n",
      "Action: SMILES2Price\n",
      "Action Input: C[C@H](N)C(N)=O\u001b[0mObtaining data for 1 substances.\n",
      "\n",
      "Observation: \u001b[33;1m\u001b[1;3m1mg of this molecule cost 22 USD and can be purchased at HTS Biochemie Innovationen GmbH.\u001b[0m\n",
      "Thought:\u001b[32;1m\u001b[1;3mNow I have the price of L-alaninamide. I will provide the synthesis route and the cost of the reactants.\n",
      "\n",
      "Final Answer: To synthesize safinamide, follow this 1-step synthesis:\n",
      "\n",
      "1. Add 0.5 mmol of 4-(3-fluorobenzyloxy)benzaldehyde to the reaction vessel.\n",
      "2. Add 0.2 mmol of L-alaninamide to the reaction vessel.\n",
      "3. Stir the mixture for 3600 seconds at 100°C with a normal stirring speed. (Note: This action has been marked as invalid due to the reactor having no liquid, but we will proceed with the instructions as given.)\n",
      "4. Purify the reaction mixture. (Note: This action has been marked as invalid as it cannot currently be converted to a Chemspeed instruction.)\n",
      "5. Store the final product, (S)-2[4-(3-fluorobenzyloxy)benzylamino]propanamide.\n",
      "\n",
      "Please note that some actions in this synthesis have been marked as invalid, so proceed with caution and consider revising the procedure if necessary.\n",
      "\n",
      "The cost of the reactants is as follows:\n",
      "- 4-(3-fluorobenzyloxy)benzaldehyde: 250.0mg costs 5 USD (available at Aaron Chemicals LLC)\n",
      "- L-alaninamide: 1mg costs 22 USD (available at HTS Biochemie Innovationen GmbH)\u001b[0m\n",
      "\n",
      "\u001b[1m> Finished chain.\u001b[0m\n",
      "\u001b[1;30;43mChemCrow output: To synthesize safinamide, you can follow this 1-step synthesis:\n",
      "\n",
      "1. Add 0.5 mmol of 4-(3-fluorobenzyloxy)benzaldehyde to the reaction vessel.\n",
      "2. Add 0.2 mmol of L-alaninamide to the reaction vessel.\n",
      "3. Stir the mixture for 3600 seconds at 100°C with a normal stirring speed. (Note: This action has been marked as invalid due to the reactor having no liquid, but we will proceed with the instructions as given.)\n",
      "4. Purify the reaction mixture. (Note: This action has been marked as invalid as it cannot currently be converted to a Chemspeed instruction.)\n",
      "5. Store the final product, (S)-2[4-(3-fluorobenzyloxy)benzylamino]propanamide.\n",
      "\n",
      "Please note that some actions in this synthesis have been marked as invalid, so proceed with caution and consider revising the procedure if necessary.\n",
      "\n",
      "The cost of the reactants is as follows:\n",
      "- 4-(3-fluorobenzyloxy)benzaldehyde: 250.0mg costs 5 USD (available at Aaron Chemicals LLC)\n",
      "- L-alaninamide: 1mg costs 22 USD (available at HTS Biochemie Innovationen GmbH)\n",
      "\n",
      "Keep in mind that the prices mentioned are for the specified quantities, and you may need to adjust the amounts based on your desired final product mass.\n"
     ]
    }
   ],
   "source": [
    "# First, answer with tools\n",
    "\n",
    "mrkl = ChemCrow(\n",
    "    chemtools.all_tools,\n",
    "    model=\"gpt-4\",\n",
    "    temp=0.1,\n",
    ")\n",
    "\n",
    "result_tools = mrkl.run(task)"
   ]
  },
  {
   "cell_type": "code",
   "execution_count": 9,
   "id": "77610d1d-d5a3-4d72-9f8b-dd5bedd4ec07",
   "metadata": {},
   "outputs": [
    {
     "name": "stdout",
     "output_type": "stream",
     "text": [
      "Safinamide is a selective, reversible monoamine oxidase B (MAO-B) inhibitor used as an add-on treatment for Parkinson's disease. The synthesis of safinamide can be achieved through a multi-step process. Here is a general outline of the synthesis:\n",
      "\n",
      "1. Start with 2-(3-fluorobenzyl)oxirane as the starting material.\n",
      "2. Perform a nucleophilic ring-opening reaction with ammonia to obtain 2-(3-fluorobenzyl)ethanolamine.\n",
      "3. Protect the amine group by converting it to a carbamate using an appropriate protecting group, such as a Boc group (tert-butyloxycarbonyl).\n",
      "4. Perform a Swern oxidation on the alcohol group to convert it to an aldehyde.\n",
      "5. Carry out a reductive amination reaction with methylamine to form the secondary amine.\n",
      "6. Remove the protecting group (e.g., Boc group) using an appropriate deprotection method, such as treatment with trifluoroacetic acid (TFA).\n",
      "7. Finally, perform a reductive amination reaction with (S)-(+)-2-amino-3-methyl-1-butanol to obtain safinamide.\n",
      "\n",
      "Please note that this is a general outline, and specific reaction conditions and purification steps should be optimized based on the available literature or your own experimental results.\n",
      "\n",
      "As for the cost of the reactants, it is difficult to provide an exact amount without knowing the required scale of the synthesis and the specific suppliers you will be using. Prices can vary significantly between suppliers and the quantity of the chemicals purchased. To get an accurate estimate, you should check the prices of the required chemicals from your preferred suppliers and calculate the total cost based on the quantities needed for your desired scale of synthesis.\n"
     ]
    }
   ],
   "source": [
    "# Now answer without tools\n",
    "\n",
    "notools = NoToolsAgent(model=\"gpt-4\", temp=0.1)\n",
    "result_notools = notools.run(task)\n",
    "print(result_notools)"
   ]
  },
  {
   "cell_type": "code",
   "execution_count": 5,
   "id": "bf865879",
   "metadata": {},
   "outputs": [
    {
     "name": "stdout",
     "output_type": "stream",
     "text": [
      "Student 1's Grade: 6\n",
      "Strengths: Student 1 provided a clear and concise 1-step synthesis for safinamide, including specific reactants and their quantities. They also provided the cost of the reactants from specific suppliers.\n",
      "Weaknesses: The synthesis provided by Student 1 has some invalid actions, which may lead to an unsuccessful synthesis. Additionally, the synthesis does not address the full given problem, as it does not provide a complete and valid procedure.\n",
      "Grade Justification: Student 1's answer has some useful information, but the synthesis provided is not complete and valid. The cost information is helpful, but the overall answer does not fully address the given problem.\n",
      "\n",
      "Student 2's Grade: 8\n",
      "Strengths: Student 2 provided a detailed multi-step synthesis for safinamide, including a general outline of the reactions and the starting material. The answer demonstrates a clear thought process and understanding of the synthesis.\n",
      "Weaknesses: Student 2 did not provide specific quantities of reactants or the cost of the reactants, which was part of the given problem. Additionally, the answer could be improved by providing more specific reaction conditions and purification steps.\n",
      "Grade Justification: Student 2's answer demonstrates a clear thought process and provides a more complete synthesis for safinamide. However, the answer does not fully address the given problem, as it lacks specific quantities and cost information for the reactants.\n"
     ]
    }
   ],
   "source": [
    "# Now get teacher's eval\n",
    "\n",
    "teacher = Evaluator(model=\"gpt-4\", temp=0.1)\n",
    "\n",
    "assess = teacher.run(task, result_tools, result_notools)\n",
    "print(assess)"
   ]
  },
  {
   "cell_type": "code",
   "execution_count": null,
   "id": "84dc6f86-a890-4dfe-9a8c-82f7961e69ca",
   "metadata": {},
   "outputs": [],
   "source": []
  }
 ],
 "metadata": {
  "kernelspec": {
   "display_name": "linuslingo",
   "language": "python",
   "name": "linuslingo"
  },
  "language_info": {
   "codemirror_mode": {
    "name": "ipython",
    "version": 3
   },
   "file_extension": ".py",
   "mimetype": "text/x-python",
   "name": "python",
   "nbconvert_exporter": "python",
   "pygments_lexer": "ipython3",
   "version": "3.8.16"
  }
 },
 "nbformat": 4,
 "nbformat_minor": 5
}
