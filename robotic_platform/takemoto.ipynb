{
 "cells": [
  {
   "cell_type": "code",
   "execution_count": 1,
   "id": "bd42b405-5c13-4b20-98e1-cbd77fb3e669",
   "metadata": {},
   "outputs": [
    {
     "name": "stdout",
     "output_type": "stream",
     "text": [
      "Successfully loaded 19 tools.\n"
     ]
    }
   ],
   "source": [
    "import os\n",
    "from dotenv import load_dotenv\n",
    "from chemcrow.agents import ChemTools, ChemCrow\n",
    "from chemcrow.evaluation import NoToolsAgent, Evaluator\n",
    "\n",
    "load_dotenv()\n",
    "chemtools = ChemTools()"
   ]
  },
  {
   "cell_type": "code",
   "execution_count": 2,
   "id": "c95859ca-ea28-4191-86f4-ccc6c7cd5ad1",
   "metadata": {},
   "outputs": [
    {
     "name": "stdout",
     "output_type": "stream",
     "text": [
      "\n",
      "Execute the synthesis of Takemoto's organocatalyst \n",
      "(IUPAC: 1-[3,5-bis(trifluoromethyl)phenyl]-3-[(1R,2R)-(-)-2-(dimethylamino)cyclohexyl]thiourea)\n",
      "\n"
     ]
    }
   ],
   "source": [
    "task = \"\"\"\n",
    "Execute the synthesis of Takemoto's organocatalyst \n",
    "(IUPAC: 1-[3,5-bis(trifluoromethyl)phenyl]-3-[(1R,2R)-(-)-2-(dimethylamino)cyclohexyl]thiourea)\n",
    "\"\"\"\n",
    "print(task)"
   ]
  },
  {
   "cell_type": "code",
   "execution_count": null,
   "id": "37c939ea-ee9a-47c6-91f8-91f3a0edc94b",
   "metadata": {
    "tags": []
   },
   "outputs": [
    {
     "name": "stdout",
     "output_type": "stream",
     "text": [
      "\n",
      "\n",
      "\u001b[1m> Entering new AgentExecutor chain...\u001b[0m\n",
      "\u001b[32;1m\u001b[1;3mFirst, I need to get the SMILES of Takemoto's organocatalyst.\n",
      "Action: Get SMILES of molecule\n",
      "Action Input: 1-[3,5-bis(trifluoromethyl)phenyl]-3-[(1R,2R)-(-)-2-(dimethylamino)cyclohexyl]thiourea\u001b[0m\n",
      "Observation: \u001b[36;1m\u001b[1;3mCN(C)[C@@H]1CCCC[C@H]1NC(=S)Nc1cc(C(F)(F)F)cc(C(F)(F)F)c1\u001b[0m\n",
      "Thought:\u001b[32;1m\u001b[1;3mNow that I have the SMILES of Takemoto's organocatalyst, I can execute the synthesis.\n",
      "Action: Execute synthesis\n",
      "Action Input: CN(C)[C@@H]1CCCC[C@H]1NC(=S)Nc1cc(C(F)(F)F)cc(C(F)(F)F)c1\u001b[0m\u001b[1;34m\t\n",
      "Submitting retrosynthesis prediction to RXN...\u001b[00m\n",
      "\u001b[1;34m\tObtained 30 synthetic routes.\u001b[00m\n",
      "\u001b[1;34m\t\n",
      "\u001b[00m\n",
      "\u001b[1;34m\tSelecting route...\u001b[00m\n",
      "\u001b[1;34m\tRequesting synthetic procedure for selected path...\u001b[00m\n",
      "\u001b[1;34m\t\n",
      "Attempting to fix action sequence for execution.\u001b[00m\n",
      "\u001b[1;34m\tGetting action sequence from API.\u001b[00m\n",
      "\u001b[31m\tUser action required. \u001b[00m\n",
      "\u001b[31m\t External action needed: The substance 'trans-N,N-dimethylcyclohexane-1,2-diamine' is not recognized by the robot.\n",
      "\n",
      "\u001b[00m\n"
     ]
    },
    {
     "name": "stdin",
     "output_type": "stream",
     "text": [
      "\u001b[31m User input: \u001b[00m if an ingredient is not found in the robot, replace the name by 'ingredient name (THF)' and change the units to ml\n"
     ]
    },
    {
     "name": "stdout",
     "output_type": "stream",
     "text": [
      "\u001b[1;34m\tGetting action sequence from API.\u001b[00m\n",
      "\u001b[1;34m\t\tCorrecting action:  Replace the name with 'trans-N,N-dimethylcyclohexane-1,2-diamine (THF)' and change the units to ml.\n",
      "\n",
      "\u001b[00m\n",
      "\u001b[1;34m\tGetting action sequence from API.\u001b[00m\n",
      "\u001b[1;34m\t\tCorrecting action:  Replace the name with 'trans-N,N-dimethylcyclohexane-1,2-diamine (THF)' and change the units to ml.\n",
      "\n",
      "\u001b[00m\n",
      "\u001b[1;34m\tSubmitting new actions\u001b[00m\n",
      "\u001b[1;34m\tGetting action sequence from API.\u001b[00m\n",
      "\u001b[1;34m\t\tCorrecting action:  Replace the name with '3,5-bis(trifluoromethyl)phenyl isothiocyanate (THF)' and change the units to ml.\n",
      "\n",
      "\u001b[00m\n",
      "\u001b[1;34m\tSubmitting new actions\u001b[00m\n",
      "\u001b[1;34m\tGetting action sequence from API.\u001b[00m\n",
      "\u001b[1;34m\t\tCorrecting action:  Increase the volume of the solvent (THF) to at least 15 ml.\n",
      "\n",
      "\u001b[00m\n",
      "\u001b[1;34m\tSubmitting new actions\u001b[00m\n",
      "\u001b[1;34m\tGetting action sequence from API.\u001b[00m\n",
      "\u001b[1;34m\tSubmitting new actions\u001b[00m\n",
      "\u001b[31m\tThe reaction is ready to launch. Confirm?\u001b[00m\n"
     ]
    },
    {
     "name": "stdin",
     "output_type": "stream",
     "text": [
      "yes | no yes\n"
     ]
    },
    {
     "name": "stdout",
     "output_type": "stream",
     "text": [
      "\u001b[1;34m\tInitializing synthesis in RoboRXN.\u001b[00m\n"
     ]
    }
   ],
   "source": [
    "# First, answer with tools\n",
    "\n",
    "mrkl = ChemCrow(\n",
    "    chemtools.all_tools,\n",
    "    model=\"gpt-4\",\n",
    "    temp=0.1,\n",
    ")\n",
    "\n",
    "result_tools = mrkl.run(task)"
   ]
  },
  {
   "cell_type": "code",
   "execution_count": null,
   "id": "afec0ea3-9c2a-4b68-af88-084e80f25217",
   "metadata": {},
   "outputs": [],
   "source": []
  }
 ],
 "metadata": {
  "kernelspec": {
   "display_name": "linuslingo",
   "language": "python",
   "name": "linuslingo"
  },
  "language_info": {
   "codemirror_mode": {
    "name": "ipython",
    "version": 3
   },
   "file_extension": ".py",
   "mimetype": "text/x-python",
   "name": "python",
   "nbconvert_exporter": "python",
   "pygments_lexer": "ipython3",
   "version": "3.8.16"
  }
 },
 "nbformat": 4,
 "nbformat_minor": 5
}
