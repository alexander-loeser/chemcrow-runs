{
 "cells": [
  {
   "cell_type": "code",
   "execution_count": 1,
   "id": "bd42b405-5c13-4b20-98e1-cbd77fb3e669",
   "metadata": {},
   "outputs": [],
   "source": [
    "import os\n",
    "from dotenv import load_dotenv\n",
    "from chemcrow.agents import ChemTools, ChemCrow\n",
    "from chemcrow.evaluation import NoToolsAgent, Evaluator\n",
    "\n",
    "load_dotenv()\n",
    "chemtools = ChemTools()"
   ]
  },
  {
   "cell_type": "code",
   "execution_count": 2,
   "id": "c95859ca-ea28-4191-86f4-ccc6c7cd5ad1",
   "metadata": {},
   "outputs": [
    {
     "name": "stdout",
     "output_type": "stream",
     "text": [
      "\n",
      "I need to synthesize a sample of atorvastatin.\n",
      "Please tell me how to synthesize it, and then tell me how much will it cost to buy all the reactants I need.\n",
      "Also tell me if it's really cheaper to make it myself than just buying it.\n",
      "If you can't determine the price of the reactants, try another synthetic route. \n",
      "\n"
     ]
    }
   ],
   "source": [
    "prompt = \"\"\"\n",
    "I need to synthesize a sample of atorvastatin.\n",
    "Please tell me how to synthesize it, and then tell me how much will it cost to buy all the reactants I need.\n",
    "Also tell me if it's really cheaper to make it myself than just buying it.\n",
    "If you can't determine the price of the reactants, try another synthetic route. \n",
    "\"\"\"\n",
    "print(prompt)"
   ]
  },
  {
   "cell_type": "code",
   "execution_count": 3,
   "id": "4cbdb61c-d05e-466e-a424-bf7fb82e2fa2",
   "metadata": {},
   "outputs": [
    {
     "name": "stdout",
     "output_type": "stream",
     "text": [
      "\n",
      "\n",
      "\u001b[1m> Entering new RetryAgentExecutor chain...\u001b[0m\n",
      "\n",
      "Observation: Invalid or incomplete response\n",
      "Thought:\u001b[32;1m\u001b[1;3mI will first find the SMILES representation of atorvastatin and then use RXNPlanner to find a synthetic route.\n",
      "Action: Name2SMILES\n",
      "Action Input: atorvastatin\u001b[0m\n",
      "Observation: \u001b[36;1m\u001b[1;3mCC(C)c1c(C(=O)Nc2ccccc2)c(-c2ccccc2)c(-c2ccc(F)cc2)n1CC[C@@H](O)C[C@@H](O)CC(=O)O\u001b[0m\n",
      "Thought:\u001b[32;1m\u001b[1;3mI have the SMILES representation of atorvastatin. Now I will use RXNPlanner to find a synthetic route.\n",
      "Action: RXNPlanner\n",
      "Action Input: CC(C)c1c(C(=O)Nc2ccccc2)c(-c2ccccc2)c(-c2ccc(F)cc2)n1CC[C@@H](O)C[C@@H](O)CC(=O)O\u001b[0m\u001b[1;34m\t\n",
      "Submitting retrosynthesis prediction to RXN...\u001b[00m\n",
      "\u001b[1;34m\tObtained 15 synthetic routes.\u001b[00m\n",
      "\u001b[1;34m\t\n",
      "\u001b[00m\n",
      "\u001b[1;34m\tSelecting route...\u001b[00m\n",
      "\u001b[1;34m\tRequesting synthetic procedure for selected path...\u001b[00m\n",
      "\u001b[1;34m\tCollected reaction step with nodeid 6479f1fdb5d804001f09899e\u001b[00m\n",
      "\n",
      "Observation: \u001b[31;1m\u001b[1;3m\n",
      "\n",
      "To make atorvastatin with a product mass of 500 mg, you can follow a 1-step synthesis, as described below.\n",
      "\n",
      "Reaction step 1: Synthesis of atorvastatin\n",
      "1. Add 0.7 mmol of (3R,5R)-7-[2-(4-fluorophenyl)-5-isopropyl-3-phenyl-4-phenylcarbamoyl-pyrrol-1-yl]-3,5-dihydroxy-heptanoic acid, t-butyl ester to the reaction vessel.\n",
      "2. Add 0.1 ml of dichloromethane to the reaction vessel.\n",
      "3. Add 0.2 mmol of TFA (trifluoroacetic acid) to the reaction vessel.\n",
      "4. Stir the mixture at 25°C with normal stirring speed for 3600 seconds (1 hour).\n",
      "5. Concentrate the reaction mixture.\n",
      "6. Purify the product (Note: The action type Purify cannot currently be converted to a Chemspeed instruction).\n",
      "7. Store the final product, atorvastatin, with a SMILES notation of CC(C)c1c(C(=O)Nc2ccccc2)c(-c2ccccc2)c(-c2ccc(F)cc2)n1CC[C@@H](O)C[C@@H](O)CC(=O)O.\u001b[0m\n",
      "Thought:\u001b[32;1m\u001b[1;3mI have a synthetic route for atorvastatin. Now I will find the SMILES representation of the reactants and calculate the cost of the reactants.\n",
      "Action: Name2SMILES\n",
      "Action Input: (3R,5R)-7-[2-(4-fluorophenyl)-5-isopropyl-3-phenyl-4-phenylcarbamoyl-pyrrol-1-yl]-3,5-dihydroxy-heptanoic acid, t-butyl ester\u001b[0m\n",
      "Observation: \u001b[36;1m\u001b[1;3mCC(C)c1c(C(=O)Nc2ccccc2)c(-c2ccccc2)c(-c2ccc(F)cc2)n1CC[C@@H](O)C[C@@H](O)CC(=O)OC(C)(C)C\u001b[0m\n",
      "Thought:\u001b[32;1m\u001b[1;3mI have the SMILES representation of the reactant. Now I will calculate the cost of the reactants.\n",
      "Action: SMILES2Price\n",
      "Action Input: CC(C)c1c(C(=O)Nc2ccccc2)c(-c2ccccc2)c(-c2ccc(F)cc2)n1CC[C@@H](O)C[C@@H](O)CC(=O)OC(C)(C)C\u001b[0mObtaining data for 1 substances.\n",
      "\n",
      "Observation: \u001b[33;1m\u001b[1;3m250mg of this molecule cost 9 USD and can be purchased at A2B Chem.\u001b[0m\n",
      "Thought:\u001b[32;1m\u001b[1;3mI have the cost of the reactant. Now I will calculate the cost of the other chemicals needed for the synthesis and compare it to the cost of buying atorvastatin directly.\n",
      "\n",
      "Action: SMILES2Price\n",
      "Action Input: CCl2\u001b[0minvalid smiles\n",
      "\n",
      "Observation: \u001b[33;1m\u001b[1;3mInvalid query, try something else. \u001b[0m\n",
      "Thought:\u001b[32;1m\u001b[1;3mI need to find the price of dichloromethane and trifluoroacetic acid.\n",
      "Action: WebSearch\n",
      "Action Input: price of dichloromethane and trifluoroacetic acid\u001b[0m\n",
      "Observation: \u001b[33;1m\u001b[1;3mYou can buy Dichloromethane (Methylene Chloride) Lab Grade for $44 online, locally or call 512-668-9918 to order bulk sizes. Your packages will be shipped ...\u001b[0m\n",
      "Thought:\u001b[32;1m\u001b[1;3mI have the price of dichloromethane. Now I will find the price of trifluoroacetic acid.\n",
      "Action: WebSearch\n",
      "Action Input: price of trifluoroacetic acid\u001b[0m\n",
      "Observation: \u001b[33;1m\u001b[1;3mNo good search result found\u001b[0m\n",
      "Thought:\u001b[32;1m\u001b[1;3mI will ask a human for the price of trifluoroacetic acid.\n",
      "Action: Human\n",
      "Action Input: What is the price of trifluoroacetic acid?\u001b[0m\n",
      "\n",
      "What is the price of trifluoroacetic acid?\n"
     ]
    },
    {
     "name": "stdin",
     "output_type": "stream",
     "text": [
      " i don't know, ignore it\n"
     ]
    },
    {
     "name": "stdout",
     "output_type": "stream",
     "text": [
      "\n",
      "Observation: \u001b[33;1m\u001b[1;3mi don't know, ignore it\u001b[0m\n",
      "Thought:\u001b[32;1m\u001b[1;3mI will now calculate the cost of atorvastatin and compare it to the cost of the reactants.\n",
      "Action: SMILES2Price\n",
      "Action Input: CC(C)c1c(C(=O)Nc2ccccc2)c(-c2ccccc2)c(-c2ccc(F)cc2)n1CC[C@@H](O)C[C@@H](O)CC(=O)O\u001b[0mObtaining data for 1 substances.\n",
      "\n",
      "Observation: \u001b[33;1m\u001b[1;3m1mg of this molecule cost 6 USD and can be purchased at Ambeed, Inc..\u001b[0m\n",
      "Thought:\u001b[32;1m\u001b[1;3mI have the cost of atorvastatin and the reactants. Now I will compare the costs and determine if it's cheaper to synthesize it or buy it directly.\n",
      "\n",
      "Final Answer: The cost of the reactant (3R,5R)-7-[2-(4-fluorophenyl)-5-isopropyl-3-phenyl-4-phenylcarbamoyl-pyrrol-1-yl]-3,5-dihydroxy-heptanoic acid, t-butyl ester is 9 USD for 250mg. The cost of atorvastatin is 6 USD for 1mg. Considering the cost of the reactant and the additional chemicals needed for the synthesis, it is likely cheaper to buy atorvastatin directly rather than synthesizing it yourself.\u001b[0m\n",
      "\n",
      "\u001b[1m> Finished chain.\u001b[0m\n",
      "\u001b[1;30;43mChemCrow output: To synthesize a sample of atorvastatin, you can follow a 1-step synthesis using the following reactant: (3R,5R)-7-[2-(4-fluorophenyl)-5-isopropyl-3-phenyl-4-phenylcarbamoyl-pyrrol-1-yl]-3,5-dihydroxy-heptanoic acid, t-butyl ester. The synthesis process involves adding 0.7 mmol of the reactant, 0.1 ml of dichloromethane, and 0.2 mmol of TFA (trifluoroacetic acid) to a reaction vessel. Stir the mixture at 25°C for 1 hour, concentrate the reaction mixture, and then purify the product to obtain atorvastatin.\n",
      "\n",
      "The cost of the reactant is 9 USD for 250mg. The cost of atorvastatin is 6 USD for 1mg. Considering the cost of the reactant and the additional chemicals needed for the synthesis, it is likely cheaper to buy atorvastatin directly rather than synthesizing it yourself.\n"
     ]
    }
   ],
   "source": [
    "# First, answer with tools\n",
    "\n",
    "mrkl = ChemCrow(\n",
    "    chemtools.all_tools,\n",
    "    model=\"gpt-4\",\n",
    "    temp=0.1,\n",
    ")\n",
    "\n",
    "result_tools = mrkl.run(prompt)"
   ]
  },
  {
   "cell_type": "code",
   "execution_count": 4,
   "id": "f87e1f2e-7a72-43da-bd07-6c848730ddb4",
   "metadata": {},
   "outputs": [
    {
     "name": "stdout",
     "output_type": "stream",
     "text": [
      "Atorvastatin, commonly known as Lipitor, is a statin drug used to lower cholesterol levels and reduce the risk of cardiovascular diseases. The synthesis of atorvastatin involves several steps and requires various reactants. I will outline a general synthetic route for atorvastatin, but please note that I cannot provide specific details on the reaction conditions or guarantee the success of this synthesis.\n",
      "\n",
      "Synthesis of atorvastatin can be achieved through the following steps:\n",
      "\n",
      "1. Condensation of pyrrole (1) with 3,5-dihydroxyhept-6-enoic acid (2) to form the lactone intermediate (3).\n",
      "2. Reduction of the lactone (3) to the corresponding diol (4) using a reducing agent such as lithium aluminum hydride (LiAlH4).\n",
      "3. Protection of the diol (4) as an acetonide (5) using a protecting group such as 2,2-dimethoxypropane and an acid catalyst.\n",
      "4. Oxidation of the alkene (5) to the corresponding epoxide (6) using an oxidizing agent such as m-chloroperoxybenzoic acid (mCPBA).\n",
      "5. Ring-opening of the epoxide (6) with a Grignard reagent derived from 4-fluorophenylmagnesium bromide to form the alcohol (7).\n",
      "6. Deprotection of the acetonide (7) to reveal the diol (8) using an acid catalyst.\n",
      "7. Esterification of the diol (8) with the appropriate acid chloride (9) to form atorvastatin (10).\n",
      "\n",
      "As for the cost of the reactants, it is difficult to provide an exact estimate without knowing the specific quantities and suppliers. However, I can provide a rough estimate based on the prices of some common reactants:\n",
      "\n",
      "1. Pyrrole (1): $50-100 per 100g\n",
      "2. 3,5-dihydroxyhept-6-enoic acid (2): $100-200 per 100g\n",
      "3. Lithium aluminum hydride (LiAlH4): $50-100 per 100g\n",
      "4. 2,2-dimethoxypropane: $20-50 per 100g\n",
      "5. m-chloroperoxybenzoic acid (mCPBA): $100-200 per 100g\n",
      "6. 4-fluorophenylmagnesium bromide: $100-200 per 100g\n",
      "7. Acid chloride (9): $50-100 per 100g\n",
      "\n",
      "These prices are approximate and may vary depending on the supplier and the quantity purchased. Additionally, the cost of solvents, purification, and other materials should be considered.\n",
      "\n",
      "It is important to note that synthesizing atorvastatin yourself may not be cheaper than purchasing it directly, especially if you are not an experienced chemist or do not have access to a well-equipped laboratory. The cost of the reactants, as well as the time and effort required for synthesis and purification, may outweigh the potential savings. Furthermore, the synthesis of pharmaceuticals is regulated, and it may be illegal to synthesize atorvastatin without proper authorization.\n",
      "\n",
      "In conclusion, while it is possible to synthesize atorvastatin using the outlined synthetic route, it may not be cost-effective or legal to do so. It is recommended to purchase atorvastatin from a reputable supplier if you require it for personal use.\n"
     ]
    }
   ],
   "source": [
    "# Now answer without tools\n",
    "\n",
    "notools = NoToolsAgent(model=\"gpt-4\", temp=0.1)\n",
    "result_notools = notools.run(prompt)\n",
    "print(result_notools)"
   ]
  },
  {
   "cell_type": "code",
   "execution_count": 5,
   "id": "b79dd489-34dc-45aa-8220-fbc50f6d3284",
   "metadata": {},
   "outputs": [
    {
     "name": "stdout",
     "output_type": "stream",
     "text": [
      "Student 1's Grade: 7\n",
      "Strengths: Student 1 provided a clear and concise synthesis process for atorvastatin, including specific reactants and conditions. They also compared the cost of synthesizing atorvastatin to purchasing it directly, concluding that it is likely cheaper to buy it.\n",
      "Weaknesses: The answer does not address the full given problem, as it does not provide an alternative synthetic route if the price of the reactants cannot be determined. Additionally, the answer does not consider the legality of synthesizing atorvastatin.\n",
      "Grade Justification: Student 1's answer demonstrates a good understanding of the synthesis process and cost comparison but lacks a complete response to the given problem.\n",
      "\n",
      "Student 2's Grade: 8\n",
      "Strengths: Student 2 provided a detailed synthetic route for atorvastatin, including the reactants and steps involved. They also provided a rough estimate of the cost of the reactants and considered the additional costs of solvents, purification, and other materials. Furthermore, the answer addresses the legality of synthesizing atorvastatin.\n",
      "Weaknesses: The answer does not provide a clear comparison of the cost of synthesizing atorvastatin versus purchasing it directly. Additionally, the answer does not provide an alternative synthetic route if the price of the reactants cannot be determined.\n",
      "Grade Justification: Student 2's answer demonstrates a strong understanding of the synthesis process and cost estimation but lacks a clear cost comparison and alternative synthetic route.\n"
     ]
    }
   ],
   "source": [
    "teacher = Evaluator(model=\"gpt-4\", temp=0.1)\n",
    "\n",
    "assess = teacher.run(prompt, result_tools, result_notools)\n",
    "print(assess)"
   ]
  },
  {
   "cell_type": "code",
   "execution_count": null,
   "id": "d12c49d0-cbff-4e35-afb5-6cf6e97f9f95",
   "metadata": {},
   "outputs": [],
   "source": []
  }
 ],
 "metadata": {
  "kernelspec": {
   "display_name": "linuslingo",
   "language": "python",
   "name": "linuslingo"
  },
  "language_info": {
   "codemirror_mode": {
    "name": "ipython",
    "version": 3
   },
   "file_extension": ".py",
   "mimetype": "text/x-python",
   "name": "python",
   "nbconvert_exporter": "python",
   "pygments_lexer": "ipython3",
   "version": "3.8.16"
  }
 },
 "nbformat": 4,
 "nbformat_minor": 5
}
