{
 "cells": [
  {
   "cell_type": "code",
   "execution_count": 1,
   "id": "bd42b405-5c13-4b20-98e1-cbd77fb3e669",
   "metadata": {},
   "outputs": [],
   "source": [
    "import os\n",
    "from dotenv import load_dotenv\n",
    "from chemcrow.agents import ChemTools, ChemCrow\n",
    "from chemcrow.evaluation import NoToolsAgent, Evaluator\n",
    "\n",
    "load_dotenv()\n",
    "chemtools = ChemTools()"
   ]
  },
  {
   "cell_type": "code",
   "execution_count": 2,
   "id": "c95859ca-ea28-4191-86f4-ccc6c7cd5ad1",
   "metadata": {},
   "outputs": [
    {
     "name": "stdout",
     "output_type": "stream",
     "text": [
      "\n",
      "Predict the product of a mixture of Ethylidenecyclohexane and HBr.\n",
      "Then predict the same reaction, adding methyl peroxide into the mixture.\n",
      "Compare the two products and explain the reaction mechanism.\n",
      "\n"
     ]
    }
   ],
   "source": [
    "task = \"\"\"\n",
    "Predict the product of a mixture of Ethylidenecyclohexane and HBr.\n",
    "Then predict the same reaction, adding methyl peroxide into the mixture.\n",
    "Compare the two products and explain the reaction mechanism.\n",
    "\"\"\"\n",
    "print(task)"
   ]
  },
  {
   "cell_type": "code",
   "execution_count": 5,
   "id": "8d339b41-7804-4e65-88aa-adba90c0797b",
   "metadata": {},
   "outputs": [
    {
     "name": "stdout",
     "output_type": "stream",
     "text": [
      "\n",
      "\n",
      "\u001b[1m> Entering new RetryAgentExecutor chain...\u001b[0m\n",
      "\n",
      "Observation: Invalid or incomplete response\n",
      "Thought:\u001b[32;1m\u001b[1;3mFirst, I need to find the SMILES representation of Ethylidenecyclohexane and HBr. Then, I will use the RXNPredict tool to predict the product of their reaction.\n",
      "Action: Name2SMILES\n",
      "Action Input: Ethylidenecyclohexane\u001b[0m\n",
      "Observation: \u001b[36;1m\u001b[1;3mCC=C1CCCCC1\u001b[0m\n",
      "Thought:\u001b[32;1m\u001b[1;3mAction: Name2SMILES\n",
      "Action Input: HBr\u001b[0m\n",
      "Observation: \u001b[36;1m\u001b[1;3mBr\u001b[0m\n",
      "Thought:\u001b[32;1m\u001b[1;3mNow that I have the SMILES representation of Ethylidenecyclohexane (CC=C1CCCCC1) and HBr (Br), I will use the RXNPredict tool to predict the product of their reaction.\n",
      "\n",
      "Action: RXNPredict\n",
      "Action Input: CC=C1CCCCC1.Br\u001b[0m\n",
      "Observation: \u001b[38;5;200m\u001b[1;3mCCC1(Br)CCCCC1\u001b[0m\n",
      "Thought:\n",
      "Observation: Invalid or incomplete response\n",
      "Thought:\u001b[32;1m\u001b[1;3mNow I have the product of the reaction between Ethylidenecyclohexane and HBr, which is CCC1(Br)CCCCC1. Next, I will predict the product of the reaction when methyl peroxide is added to the mixture.\n",
      "\n",
      "Action: Name2SMILES\n",
      "Action Input: methyl peroxide\u001b[0m\n",
      "Observation: \u001b[36;1m\u001b[1;3mCOOC\u001b[0m\n",
      "Thought:\u001b[32;1m\u001b[1;3mNow that I have the SMILES representation of methyl peroxide (COOC), I will use the RXNPredict tool to predict the product of the reaction between Ethylidenecyclohexane, HBr, and methyl peroxide.\n",
      "\n",
      "Action: RXNPredict\n",
      "Action Input: CC=C1CCCCC1.Br.COOC\u001b[0m\n",
      "Observation: \u001b[38;5;200m\u001b[1;3mCC(Br)C1CCCCC1\u001b[0m\n",
      "Thought:\u001b[32;1m\u001b[1;3mNow I have the product of the reaction between Ethylidenecyclohexane, HBr, and methyl peroxide, which is CC(Br)C1CCCCC1. I will compare the two products and explain the reaction mechanism.\n",
      "\n",
      "Final Answer: The product of the reaction between Ethylidenecyclohexane and HBr is CCC1(Br)CCCCC1. When methyl peroxide is added to the mixture, the product is CC(Br)C1CCCCC1. The presence of methyl peroxide changes the product, indicating that it acts as a radical initiator. In the first reaction, HBr adds across the double bond in a Markovnikov fashion, resulting in the bromine attaching to the more substituted carbon. In the second reaction, the presence of methyl peroxide leads to a radical mechanism, and the bromine attaches to the less substituted carbon in an anti-Markovnikov fashion.\u001b[0m\n",
      "\n",
      "\u001b[1m> Finished chain.\u001b[0m\n",
      "\u001b[1;30;43mChemCrow output: The product of the reaction between Ethylidenecyclohexane and HBr is CCC1(Br)CCCCC1. To predict this product, we first found the SMILES representation of Ethylidenecyclohexane (CC=C1CCCCC1) and HBr (Br), and then used the RXNPredict tool to predict the product of their reaction.\n",
      "\n",
      "When methyl peroxide is added to the mixture, the product changes to CC(Br)C1CCCCC1. To predict this product, we found the SMILES representation of methyl peroxide (COOC) and used the RXNPredict tool to predict the product of the reaction between Ethylidenecyclohexane, HBr, and methyl peroxide.\n",
      "\n",
      "Comparing the two products, we can see that the presence of methyl peroxide changes the product, indicating that it acts as a radical initiator. In the first reaction, HBr adds across the double bond in a Markovnikov fashion, resulting in the bromine attaching to the more substituted carbon. In the second reaction, the presence of methyl peroxide leads to a radical mechanism, and the bromine attaches to the less substituted carbon in an anti-Markovnikov fashion.\n"
     ]
    }
   ],
   "source": [
    "# First, answer with tools\n",
    "\n",
    "mrkl = ChemCrow(\n",
    "    chemtools.all_tools,\n",
    "    model=\"gpt-4\",\n",
    "    temp=0.1,\n",
    ")\n",
    "\n",
    "result_tools = mrkl.run(task)"
   ]
  },
  {
   "cell_type": "code",
   "execution_count": 6,
   "id": "d52b111a-8f13-40e2-a02f-14f4f45502e0",
   "metadata": {
    "tags": []
   },
   "outputs": [
    {
     "name": "stdout",
     "output_type": "stream",
     "text": [
      "When ethylidenecyclohexane reacts with HBr, it undergoes an electrophilic addition reaction. In this reaction, the alkene double bond of ethylidenecyclohexane attacks the HBr molecule, breaking the H-Br bond. The hydrogen atom adds to the less substituted carbon of the double bond, while the bromine atom adds to the more substituted carbon. This is due to the Markovnikov's rule, which states that the electrophile (H in this case) will add to the carbon with the most hydrogens, while the nucleophile (Br in this case) will add to the carbon with the least hydrogens. The product of this reaction is 1-bromoethylcyclohexane.\n",
      "\n",
      "When methyl peroxide is added to the mixture of ethylidenecyclohexane and HBr, the reaction mechanism changes to a free radical mechanism. Methyl peroxide can act as a radical initiator, decomposing into a methyl radical and a hydroperoxy radical. The hydroperoxy radical can then react with HBr, generating a bromine radical. This bromine radical can then react with the alkene double bond of ethylidenecyclohexane, forming a new carbon-bromine bond and a carbon-centered radical. This carbon-centered radical can then react with another HBr molecule, forming the final product. In this case, the product will be 2-bromoethylcyclohexane, as the bromine radical will preferentially add to the less substituted carbon of the double bond due to the lower steric hindrance.\n",
      "\n",
      "In summary, the product of the reaction between ethylidenecyclohexane and HBr is 1-bromoethylcyclohexane, while the product of the reaction between ethylidenecyclohexane, HBr, and methyl peroxide is 2-bromoethylcyclohexane. The difference in products is due to the change in reaction mechanism from electrophilic addition to free radical addition when methyl peroxide is introduced.\n"
     ]
    }
   ],
   "source": [
    "# Now answer without tools\n",
    "\n",
    "notools = NoToolsAgent(model=\"gpt-4\", temp=0.1)\n",
    "result_notools = notools.run(task)\n",
    "print(result_notools)"
   ]
  },
  {
   "cell_type": "code",
   "execution_count": 7,
   "id": "cdec6dc9",
   "metadata": {},
   "outputs": [
    {
     "name": "stdout",
     "output_type": "stream",
     "text": [
      "Student 1's Grade: 8\n",
      "Strengths: Student 1 demonstrated a clear understanding of the reaction mechanisms and the role of methyl peroxide as a radical initiator. They also used a computational tool (RXNPredict) to predict the products, which shows their ability to apply technology in solving chemistry problems.\n",
      "Weaknesses: Student 1 did not provide the IUPAC names of the products, which would have been more informative than the SMILES representation. Additionally, they did not explain the reasoning behind the Markovnikov and anti-Markovnikov addition in detail.\n",
      "Grade Justification: Student 1's answer was mostly accurate and demonstrated a good understanding of the reaction mechanisms. However, the lack of IUPAC names and detailed explanation of the reasoning behind the addition patterns prevented them from achieving a perfect score.\n",
      "\n",
      "Student 2's Grade: 9\n",
      "Strengths: Student 2 provided a detailed explanation of the reaction mechanisms, including the electrophilic addition and free radical addition. They also explained the reasoning behind the Markovnikov and anti-Markovnikov addition patterns and provided the IUPAC names of the products.\n",
      "Weaknesses: Student 2 did not use any computational tools to predict the products, which could have strengthened their answer by showing their ability to apply technology in solving chemistry problems.\n",
      "Grade Justification: Student 2's answer was accurate and demonstrated a strong understanding of the reaction mechanisms and the reasoning behind the addition patterns. The only area for improvement would be the inclusion of computational tools to predict the products, which would have demonstrated their ability to apply technology in solving chemistry problems.\n"
     ]
    }
   ],
   "source": [
    "# Now get teacher's eval\n",
    "\n",
    "teacher = Evaluator(model=\"gpt-4\", temp=0.1)\n",
    "\n",
    "assess = teacher.run(task, result_tools, result_notools)\n",
    "print(assess)"
   ]
  },
  {
   "cell_type": "code",
   "execution_count": null,
   "id": "f9a17b61-1076-4162-b87e-1fab7379f38a",
   "metadata": {},
   "outputs": [],
   "source": []
  }
 ],
 "metadata": {
  "kernelspec": {
   "display_name": "linuslingo",
   "language": "python",
   "name": "linuslingo"
  },
  "language_info": {
   "codemirror_mode": {
    "name": "ipython",
    "version": 3
   },
   "file_extension": ".py",
   "mimetype": "text/x-python",
   "name": "python",
   "nbconvert_exporter": "python",
   "pygments_lexer": "ipython3",
   "version": "3.8.16"
  }
 },
 "nbformat": 4,
 "nbformat_minor": 5
}
